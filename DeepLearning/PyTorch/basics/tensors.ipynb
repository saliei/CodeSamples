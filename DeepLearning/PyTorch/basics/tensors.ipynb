{
 "cells": [
  {
   "cell_type": "code",
   "execution_count": 1,
   "id": "c7d840a3-9f0a-49ec-b943-d5c7aa5606ae",
   "metadata": {},
   "outputs": [],
   "source": [
    "import torch\n",
    "import numpy as np"
   ]
  },
  {
   "cell_type": "code",
   "execution_count": 2,
   "id": "a9ac51bc-f64c-4202-a550-7c5e9e67d68e",
   "metadata": {},
   "outputs": [
    {
     "data": {
      "text/plain": [
       "tensor([[1, 2],\n",
       "        [3, 4]])"
      ]
     },
     "execution_count": 2,
     "metadata": {},
     "output_type": "execute_result"
    }
   ],
   "source": [
    "data = [[1, 2], [3, 4]]\n",
    "x_data = torch.tensor(data)\n",
    "x_data"
   ]
  },
  {
   "cell_type": "code",
   "execution_count": 3,
   "id": "6720e814-b706-4884-ba2c-7c950d94ba66",
   "metadata": {},
   "outputs": [
    {
     "data": {
      "text/plain": [
       "tensor([[1, 2],\n",
       "        [3, 4]])"
      ]
     },
     "execution_count": 3,
     "metadata": {},
     "output_type": "execute_result"
    }
   ],
   "source": [
    "np_arr = np.array(data)\n",
    "x_np = torch.from_numpy(np_arr)\n",
    "x_np"
   ]
  },
  {
   "cell_type": "code",
   "execution_count": 5,
   "id": "b778e31c-b138-4c11-b856-7da4ed9e8f9e",
   "metadata": {},
   "outputs": [
    {
     "name": "stdout",
     "output_type": "stream",
     "text": [
      "ones tensor:\n",
      " tensor([[1, 1],\n",
      "        [1, 1]])\n",
      "random tensor:\n",
      " tensor([[0.4244, 0.4385],\n",
      "        [0.9937, 0.3419]])\n"
     ]
    }
   ],
   "source": [
    "x_ones = torch.ones_like(x_data)\n",
    "print(f\"ones tensor:\\n {x_ones}\")\n",
    "x_rand = torch.rand_like(x_data, dtype=torch.float)\n",
    "print(f\"random tensor:\\n {x_rand}\")"
   ]
  },
  {
   "cell_type": "code",
   "execution_count": 6,
   "id": "d91299df-30be-4d95-ab62-173ad08c9b7d",
   "metadata": {},
   "outputs": [
    {
     "name": "stdout",
     "output_type": "stream",
     "text": [
      "rand tensor:\n",
      " tensor([[0.1750, 0.0610, 0.3811],\n",
      "        [0.4548, 0.5294, 0.1368]])\n",
      "ones tensor:\n",
      " tensor([[1., 1., 1.],\n",
      "        [1., 1., 1.]])\n",
      "zeros tensor:\n",
      " tensor([[0., 0., 0.],\n",
      "        [0., 0., 0.]])\n"
     ]
    }
   ],
   "source": [
    "shape = (2, 3, )\n",
    "rand_tensor = torch.rand(shape)\n",
    "ones_tensor = torch.ones(shape)\n",
    "zeros_tensor = torch.zeros(shape)\n",
    "\n",
    "print(f\"rand tensor:\\n {rand_tensor}\")\n",
    "print(f\"ones tensor:\\n {ones_tensor}\")\n",
    "print(f\"zeros tensor:\\n {zeros_tensor}\")"
   ]
  },
  {
   "cell_type": "code",
   "execution_count": 7,
   "id": "89b96ce0-83ef-463d-aec5-b3b7ac328e24",
   "metadata": {},
   "outputs": [
    {
     "name": "stdout",
     "output_type": "stream",
     "text": [
      "tensor shape: torch.Size([3, 4])\n",
      "tensor datatype: torch.float32\n",
      "tensor is stored in: cpu\n"
     ]
    }
   ],
   "source": [
    "tensor = torch.rand(3, 4)\n",
    "print(f\"tensor shape: {tensor.shape}\")\n",
    "print(f\"tensor datatype: {tensor.dtype}\")\n",
    "print(f\"tensor is stored in: {tensor.device}\")"
   ]
  },
  {
   "cell_type": "code",
   "execution_count": 8,
   "id": "3ce51286-a4ba-4a4f-9436-3e29b080ccfe",
   "metadata": {},
   "outputs": [
    {
     "name": "stdout",
     "output_type": "stream",
     "text": [
      "No GPU! tensor remains in CPU.\n"
     ]
    }
   ],
   "source": [
    "# if there is GPU available, move the tensor to it\n",
    "if torch.cuda.is_available():\n",
    "    tensor = tensor.to(\"cuda\")\n",
    "else:\n",
    "    print(\"No GPU! tensor remains in CPU.\")"
   ]
  },
  {
   "cell_type": "code",
   "execution_count": 10,
   "id": "d960e048-514a-43e9-98de-51bc14e80b25",
   "metadata": {},
   "outputs": [
    {
     "name": "stdout",
     "output_type": "stream",
     "text": [
      "random tensor:\n",
      " tensor([[0.4142, 0.7411, 0.0164, 0.0416],\n",
      "        [0.7843, 0.7966, 0.2787, 0.1653],\n",
      "        [0.6302, 0.6015, 0.5601, 0.6828]])\n",
      "first row:\n",
      " tensor([0.4142, 0.7411, 0.0164, 0.0416])\n",
      "first column:\n",
      " tensor([0.4142, 0.7843, 0.6302])\n",
      "last column:\n",
      " tensor([0.0416, 0.1653, 0.6828])\n",
      "replace second column with zeros:\n",
      "tensor([[0.4142, 0.0000, 0.0164, 0.0416],\n",
      "        [0.7843, 0.0000, 0.2787, 0.1653],\n",
      "        [0.6302, 0.0000, 0.5601, 0.6828]])\n"
     ]
    }
   ],
   "source": [
    "tensor = torch.rand(3, 4)\n",
    "print(f\"random tensor:\\n {tensor}\")\n",
    "print(f\"first row:\\n {tensor[0]}\")\n",
    "print(f\"first column:\\n {tensor[:, 0]}\")\n",
    "print(f\"last column:\\n {tensor[..., -1]}\")\n",
    "print(\"replace second column with zeros:\")\n",
    "tensor[:, 1] = 0\n",
    "print(tensor)"
   ]
  },
  {
   "cell_type": "code",
   "execution_count": 12,
   "id": "568c806f-805b-481c-b0aa-f7aa88654526",
   "metadata": {},
   "outputs": [
    {
     "name": "stdout",
     "output_type": "stream",
     "text": [
      "tensor([[0.4142, 0.0000, 0.0164, 0.0416],\n",
      "        [0.7843, 0.0000, 0.2787, 0.1653],\n",
      "        [0.6302, 0.0000, 0.5601, 0.6828],\n",
      "        [0.4142, 0.0000, 0.0164, 0.0416],\n",
      "        [0.7843, 0.0000, 0.2787, 0.1653],\n",
      "        [0.6302, 0.0000, 0.5601, 0.6828],\n",
      "        [0.4142, 0.0000, 0.0164, 0.0416],\n",
      "        [0.7843, 0.0000, 0.2787, 0.1653],\n",
      "        [0.6302, 0.0000, 0.5601, 0.6828]])\n"
     ]
    }
   ],
   "source": [
    "# concatenate tensors\n",
    "cat_tensor = torch.cat([tensor, tensor, tensor], dim=0)\n",
    "print(cat_tensor)"
   ]
  },
  {
   "cell_type": "code",
   "execution_count": 15,
   "id": "55e80292-0586-47e0-9229-4e491ca9f2d2",
   "metadata": {},
   "outputs": [
    {
     "name": "stdout",
     "output_type": "stream",
     "text": [
      "matrix multiplication:\n",
      "y1:\n",
      " tensor([[0.1735, 0.3363, 0.2986],\n",
      "        [0.3363, 0.7201, 0.7632],\n",
      "        [0.2986, 0.7632, 1.1771]])\n",
      "y2:\n",
      " tensor([[0.1735, 0.3363, 0.2986],\n",
      "        [0.3363, 0.7201, 0.7632],\n",
      "        [0.2986, 0.7632, 1.1771]])\n",
      "y3:\n",
      " tensor([[0.1735, 0.3363, 0.2986],\n",
      "        [0.3363, 0.7201, 0.7632],\n",
      "        [0.2986, 0.7632, 1.1771]])\n",
      "element-wise multiplication:\n",
      "\n",
      "z1:\n",
      "tensor([[1.7153e-01, 0.0000e+00, 2.6779e-04, 1.7334e-03],\n",
      "        [6.1516e-01, 0.0000e+00, 7.7648e-02, 2.7309e-02],\n",
      "        [3.9711e-01, 0.0000e+00, 3.1376e-01, 4.6620e-01]])\n",
      "z2:\n",
      "tensor([[1.7153e-01, 0.0000e+00, 2.6779e-04, 1.7334e-03],\n",
      "        [6.1516e-01, 0.0000e+00, 7.7648e-02, 2.7309e-02],\n",
      "        [3.9711e-01, 0.0000e+00, 3.1376e-01, 4.6620e-01]])\n",
      "z3:\n",
      "tensor([[1.7153e-01, 0.0000e+00, 2.6779e-04, 1.7334e-03],\n",
      "        [6.1516e-01, 0.0000e+00, 7.7648e-02, 2.7309e-02],\n",
      "        [3.9711e-01, 0.0000e+00, 3.1376e-01, 4.6620e-01]])\n"
     ]
    }
   ],
   "source": [
    "# compute matrix multiplications: y1, y2 and y3 are the same\n",
    "y1 = tensor @ tensor.T\n",
    "y2 = tensor.matmul(tensor.T)\n",
    "y3 = torch.rand_like(y1)\n",
    "torch.matmul(tensor, tensor.T, out=y3)\n",
    "print(\"matrix multiplication:\")\n",
    "print(f\"y1:\\n {y1}\")\n",
    "print(f\"y2:\\n {y2}\")\n",
    "print(f\"y3:\\n {y3}\")\n",
    "\n",
    "# element-wise matrix multiplication: z1, z2 and z3 are the same\n",
    "z1 = tensor * tensor\n",
    "z2 = tensor.mul(tensor)\n",
    "z3 = torch.rand_like(tensor)\n",
    "torch.mul(tensor, tensor, out=z3)\n",
    "print(\"element-wise multiplication:\\n\")\n",
    "print(f\"z1:\\n{z1}\")\n",
    "print(f\"z2:\\n{z2}\")\n",
    "print(f\"z3:\\n{z3}\")"
   ]
  },
  {
   "cell_type": "code",
   "execution_count": 17,
   "id": "b41d7cec-4bb1-4aae-8baa-83f7a672b43b",
   "metadata": {},
   "outputs": [
    {
     "name": "stdout",
     "output_type": "stream",
     "text": [
      "element-wise sum:\n",
      " 3.573484182357788 <class 'torch.Tensor'>\n",
      "item:\n",
      " 3.573484182357788 <class 'float'>\n"
     ]
    }
   ],
   "source": [
    "# use `.item()` methos to convert a single element tensor (e.g. by aggregation) to python value\n",
    "agg = tensor.sum()\n",
    "print(f\"element-wise sum:\\n {agg}\", type(agg))\n",
    "agg_item = agg.item()\n",
    "print(f\"item:\\n {agg_item}\", type(agg_item))"
   ]
  },
  {
   "cell_type": "code",
   "execution_count": 18,
   "id": "a69f6b9e-19c5-4af0-b237-f42f22d54ef2",
   "metadata": {},
   "outputs": [
    {
     "name": "stdout",
     "output_type": "stream",
     "text": [
      "tensor:\n",
      " tensor([[0.4142, 0.0000, 0.0164, 0.0416],\n",
      "        [0.7843, 0.0000, 0.2787, 0.1653],\n",
      "        [0.6302, 0.0000, 0.5601, 0.6828]])\n",
      "in-place tensor+1:\n",
      " tensor([[1.4142, 1.0000, 1.0164, 1.0416],\n",
      "        [1.7843, 1.0000, 1.2787, 1.1653],\n",
      "        [1.6302, 1.0000, 1.5601, 1.6828]])\n"
     ]
    }
   ],
   "source": [
    "# in-place operations are denoted by subscript, _ suffix\n",
    "print(f\"tensor:\\n {tensor}\")\n",
    "tensor.add_(1)\n",
    "print(f\"in-place tensor+1:\\n {tensor}\")"
   ]
  },
  {
   "cell_type": "code",
   "execution_count": 19,
   "id": "88012fe7-da0c-4659-8996-55fc4ad3a88b",
   "metadata": {},
   "outputs": [
    {
     "name": "stdout",
     "output_type": "stream",
     "text": [
      "t:\n",
      " tensor([1., 1., 1., 1., 1.])\n",
      "n:\n",
      " [1. 1. 1. 1. 1.]\n",
      "t+4:\n",
      " tensor([5., 5., 5., 5., 5.])\n",
      "n:\n",
      " [5. 5. 5. 5. 5.]\n"
     ]
    }
   ],
   "source": [
    "# tensor on the cpu and numpy arrays can share their underlying memory locations,\n",
    "# a change in one will be reflected in the other\n",
    "t = torch.ones(5)\n",
    "print(f\"t:\\n {t}\")\n",
    "n = t.numpy()\n",
    "print(f\"n:\\n {n}\")\n",
    "\n",
    "t.add_(4)\n",
    "print(f\"t+4:\\n {t}\")\n",
    "print(f\"n:\\n {n}\")"
   ]
  },
  {
   "cell_type": "code",
   "execution_count": 22,
   "id": "99b23f70-0656-435c-89b9-f0b89963d47d",
   "metadata": {},
   "outputs": [
    {
     "name": "stdout",
     "output_type": "stream",
     "text": [
      "t:\n",
      " tensor([8., 8., 8., 8., 8.]) torch.float32\n",
      "n:\n",
      " [8. 8. 8. 8. 8.] float32\n"
     ]
    }
   ],
   "source": [
    "np.add(n, 1, out=n)\n",
    "print(f\"t:\\n {t}\", t.dtype)\n",
    "print(f\"n:\\n {n}\", n.dtype)"
   ]
  },
  {
   "cell_type": "code",
   "execution_count": null,
   "id": "eb501e10-586f-4824-8727-fe8448de5001",
   "metadata": {},
   "outputs": [],
   "source": []
  }
 ],
 "metadata": {
  "kernelspec": {
   "display_name": "Python 3 (ipykernel)",
   "language": "python",
   "name": "python3"
  },
  "language_info": {
   "codemirror_mode": {
    "name": "ipython",
    "version": 3
   },
   "file_extension": ".py",
   "mimetype": "text/x-python",
   "name": "python",
   "nbconvert_exporter": "python",
   "pygments_lexer": "ipython3",
   "version": "3.10.5"
  }
 },
 "nbformat": 4,
 "nbformat_minor": 5
}
