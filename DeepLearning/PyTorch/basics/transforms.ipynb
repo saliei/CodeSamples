{
 "cells": [
  {
   "cell_type": "markdown",
   "id": "5754b6f5-b765-4dab-b366-5f3d734fa552",
   "metadata": {},
   "source": [
    "**transforms** are used to perform some manipulations of the data and make it suitable for training.\n",
    "\n",
    "All TorchVision datasets have two parameters: `transform` to modify the features and `target_transform` to modify \n",
    "the lables."
   ]
  },
  {
   "cell_type": "markdown",
   "id": "25378fa2-6144-49ef-b3ae-d6898c21a924",
   "metadata": {
    "jp-MarkdownHeadingCollapsed": true,
    "tags": []
   },
   "source": [
    "FashionMNIST features are in PIL image format, and the labels are integers. For training we need the features as \n",
    "normalized tensors, and the labels as one-hot encoded tensor. To make these transformations we use `ToTensor`\n",
    "and `Lambda`"
   ]
  },
  {
   "cell_type": "code",
   "execution_count": 1,
   "id": "8d76f5f5-fdc1-48cf-a325-60ddd1260639",
   "metadata": {},
   "outputs": [],
   "source": [
    "import torch\n",
    "from torchvision import datasets\n",
    "from torchvision.transforms import ToTensor, Lambda"
   ]
  },
  {
   "cell_type": "code",
   "execution_count": 4,
   "id": "ee831e72-d0ec-4e35-94ef-82f0c9eccd88",
   "metadata": {},
   "outputs": [],
   "source": [
    "ds = datasets.FashionMNIST(\n",
    "    root = \"data\",\n",
    "    train = True,\n",
    "    download = True,\n",
    "    transform = ToTensor(),\n",
    "    target_transform = Lambda(lambda y: torch.zeros(10, dtype=torch.float).scatter_(0, torch.tensor(y), value=1))\n",
    "    )"
   ]
  },
  {
   "cell_type": "markdown",
   "id": "330ad2da-17e3-4f0b-89bc-4353d02e51e0",
   "metadata": {},
   "source": [
    "`ToTensor()` converts a PIL image or NumPy `ndarray` into a `FloatTensor` and scales the image's pixel intensity values in the range [0., 1.]"
   ]
  },
  {
   "cell_type": "markdown",
   "id": "6b66ec9b-375d-4a54-8293-3981f73a7414",
   "metadata": {},
   "source": [
    "Lambda transforms apply any user-defined lambda function. Here, we define a function to turn the integer into a one-hot encoded tensor. It first creates a zero tensor of size 10 (the number of labels in our dataset) and calls `scatter_` which assigns a `value=1` on the index as given by the label y."
   ]
  },
  {
   "cell_type": "code",
   "execution_count": 8,
   "id": "f9d18800-2745-42df-bacc-1377d05d5d97",
   "metadata": {},
   "outputs": [],
   "source": [
    "target_transform = Lambda(lambda y: torch.zeros(10, dtype=torch.float).scatter_(dim=0, index=torch.tensor(y), value=1))"
   ]
  },
  {
   "cell_type": "code",
   "execution_count": null,
   "id": "625f60ae-13a3-4fde-9dfc-aae308764137",
   "metadata": {},
   "outputs": [],
   "source": []
  }
 ],
 "metadata": {
  "kernelspec": {
   "display_name": "Python 3 (ipykernel)",
   "language": "python",
   "name": "python3"
  },
  "language_info": {
   "codemirror_mode": {
    "name": "ipython",
    "version": 3
   },
   "file_extension": ".py",
   "mimetype": "text/x-python",
   "name": "python",
   "nbconvert_exporter": "python",
   "pygments_lexer": "ipython3",
   "version": "3.10.5"
  }
 },
 "nbformat": 4,
 "nbformat_minor": 5
}
