{
 "cells": [
  {
   "cell_type": "code",
   "execution_count": 1,
   "id": "18150581-63a9-453b-a452-bb40df9d1c12",
   "metadata": {},
   "outputs": [],
   "source": [
    "import torch\n",
    "from torch import nn\n",
    "from torch.utils.data import DataLoader\n",
    "from torchvision import datasets\n",
    "from torchvision.transforms import ToTensor"
   ]
  },
  {
   "cell_type": "code",
   "execution_count": 7,
   "id": "81ecdaee-c49c-4789-825d-5a90c1dde24b",
   "metadata": {},
   "outputs": [],
   "source": [
    "# Each image FashionMIST is a grayscale 28x28 (total 784 pixels) image, each pixel has a single value between  \n",
    "# 0 and 255, the higher the darker the pixel. The training and test datasets have 785 columns, the first is \n",
    "# the class label (what kind of cloth it is).\n",
    "training_data = datasets.FashionMNIST(root=\"data\", train=True, download=True, transform=ToTensor())\n",
    "test_data = datasets.FashionMNIST(root=\"data\", train=False, download=True, transform=ToTensor())"
   ]
  },
  {
   "cell_type": "code",
   "execution_count": 12,
   "id": "140bb220-bdc1-40c5-85f9-530fec8ffd26",
   "metadata": {},
   "outputs": [
    {
     "name": "stdout",
     "output_type": "stream",
     "text": [
      "Shape of X [N(#image), C(color), H(height), W(width)]: torch.Size([64, 1, 28, 28])\n",
      "Shape of y: torch.Size([64]) torch.int64\n"
     ]
    }
   ],
   "source": [
    "# Each item in the dataloader iterable will return a batch of 64 features and labels (images).\n",
    "batch_size = 64\n",
    "\n",
    "train_dataloader = DataLoader(training_data, batch_size=batch_size)\n",
    "test_dataloader = DataLoader(test_data, batch_size=batch_size)\n",
    "\n",
    "# X: features, y: label\n",
    "for X, y in test_dataloader:\n",
    "    print(f\"Shape of X [N(#image), C(color), H(height), W(width)]: {X.shape}\")\n",
    "    print(f\"Shape of y: {y.shape} {y.dtype}\")\n",
    "    break"
   ]
  },
  {
   "cell_type": "code",
   "execution_count": 13,
   "id": "5b644e40-3fd2-482d-8189-6055ec56cb9e",
   "metadata": {},
   "outputs": [
    {
     "name": "stdout",
     "output_type": "stream",
     "text": [
      "Using cpu device\n"
     ]
    }
   ],
   "source": [
    "device = \"cuda\" if torch.cuda.is_available() else \"cpu\"\n",
    "print(f\"Using {device} device\")"
   ]
  },
  {
   "cell_type": "code",
   "execution_count": 23,
   "id": "5ce9f285-785c-45f6-83f4-2ddaae32d421",
   "metadata": {},
   "outputs": [
    {
     "name": "stdout",
     "output_type": "stream",
     "text": [
      "NeuralNet(\n",
      "  (flatten): Flatten(start_dim=1, end_dim=-1)\n",
      "  (linear_relu_stack): Sequential(\n",
      "    (0): Linear(in_features=784, out_features=512, bias=True)\n",
      "    (1): ReLU()\n",
      "    (2): Linear(in_features=512, out_features=512, bias=True)\n",
      "    (3): ReLU()\n",
      "    (4): Linear(in_features=512, out_features=10, bias=True)\n",
      "  )\n",
      ")\n"
     ]
    }
   ],
   "source": [
    "# our neural net architecture is fully connected, the input layer has 28*28 nodes, with one 512 nodes hidden layer \n",
    "# with ReLU activation function, the output layer has 10 nodes, each representing the probability for each label.\n",
    "class NeuralNet(nn.Module):\n",
    "    def __init__(self):\n",
    "        super(NeuralNet, self).__init__()\n",
    "        # make tensors 1d\n",
    "        self.flatten = nn.Flatten()\n",
    "        self.linear_relu_stack = nn.Sequential(\n",
    "            nn.Linear(28*28, 512),\n",
    "            nn.ReLU(),\n",
    "            nn.Linear(512, 512),\n",
    "            nn.ReLU(),\n",
    "            nn.Linear(512, 10)\n",
    "        )\n",
    "        \n",
    "    def forward(self, x):\n",
    "        x = self.flatten(x)\n",
    "        logits = self.linear_relu_stack(x)\n",
    "        return logits\n",
    "    \n",
    "model = NeuralNet().to(device)\n",
    "print(model)"
   ]
  },
  {
   "cell_type": "code",
   "execution_count": 15,
   "id": "a03057de-f196-4701-97bf-17261a874b24",
   "metadata": {},
   "outputs": [],
   "source": [
    "# the loss function and the optimzer\n",
    "lossfn = nn.CrossEntropyLoss()\n",
    "optim = torch.optim.SGD(model.parameters(), lr=1e-3)"
   ]
  },
  {
   "cell_type": "code",
   "execution_count": 19,
   "id": "4c17325b-29e7-4f7d-8c78-5fe5e7d9dede",
   "metadata": {},
   "outputs": [],
   "source": [
    "def train(dataloader, model, lossfn, optim):\n",
    "    size = len(dataloader.dataset)\n",
    "    model.train()\n",
    "    for batch, (X, y) in enumerate(dataloader):\n",
    "        X, y = X.to(device), y.to(device)\n",
    "        \n",
    "        pred = model(X)\n",
    "        loss = lossfn(pred, y)\n",
    "        \n",
    "        # backpropagation\n",
    "        optim.zero_grad()\n",
    "        loss.backward()\n",
    "        optim.step()\n",
    "        \n",
    "        if batch % 100 == 0:\n",
    "            loss, current = loss.item(), batch*len(X)\n",
    "            print(f\"loss: {loss:>7f} [{current:>5d}/{size:>5d}]\")"
   ]
  },
  {
   "cell_type": "code",
   "execution_count": 25,
   "id": "38a0e9d8-84d2-42c6-95e2-07c28df8b147",
   "metadata": {},
   "outputs": [],
   "source": [
    "def test(dataloader, model, lossfn):\n",
    "    size = len(dataloader.dataset)\n",
    "    num_batches = len(dataloader)\n",
    "    model.eval()\n",
    "    test_loss, correct = 0, 0\n",
    "    with torch.no_grad():\n",
    "        for X, y in dataloader:\n",
    "            X, y = X.to(device), y.to(device)\n",
    "            pred = model(X)\n",
    "            test_loss += lossfn(pred, y).item()\n",
    "            correct += (pred.argmax(1) == y).type(torch.float).sum().item()\n",
    "        test_loss /= num_batches\n",
    "        correct /= size\n",
    "        print(f\"Test Error: \\n Accuracy: {(100*correct):>0.1f}%, Avg Loss: {test_loss:>8f} \\n\")"
   ]
  },
  {
   "cell_type": "code",
   "execution_count": 26,
   "id": "7a005025-0577-4e53-9811-f95976c9ff2f",
   "metadata": {},
   "outputs": [
    {
     "name": "stdout",
     "output_type": "stream",
     "text": [
      "Epoch: 1\n",
      "------------------------------\n",
      "loss: 2.314366 [    0/60000]\n",
      "loss: 2.309913 [ 6400/60000]\n",
      "loss: 2.316415 [12800/60000]\n",
      "loss: 2.306095 [19200/60000]\n",
      "loss: 2.300427 [25600/60000]\n",
      "loss: 2.295782 [32000/60000]\n",
      "loss: 2.298127 [38400/60000]\n",
      "loss: 2.302067 [44800/60000]\n",
      "loss: 2.312053 [51200/60000]\n",
      "loss: 2.288653 [57600/60000]\n",
      "Test Error: \n",
      " Accuracy: 13.6%, Avg Loss: 2.303258 \n",
      "\n",
      "Epoch: 2\n",
      "------------------------------\n",
      "loss: 2.314366 [    0/60000]\n",
      "loss: 2.309913 [ 6400/60000]\n",
      "loss: 2.316415 [12800/60000]\n",
      "loss: 2.306095 [19200/60000]\n",
      "loss: 2.300427 [25600/60000]\n",
      "loss: 2.295782 [32000/60000]\n",
      "loss: 2.298127 [38400/60000]\n",
      "loss: 2.302067 [44800/60000]\n",
      "loss: 2.312053 [51200/60000]\n",
      "loss: 2.288653 [57600/60000]\n",
      "Test Error: \n",
      " Accuracy: 13.6%, Avg Loss: 2.303258 \n",
      "\n",
      "Epoch: 3\n",
      "------------------------------\n",
      "loss: 2.314366 [    0/60000]\n",
      "loss: 2.309913 [ 6400/60000]\n",
      "loss: 2.316415 [12800/60000]\n",
      "loss: 2.306095 [19200/60000]\n",
      "loss: 2.300427 [25600/60000]\n",
      "loss: 2.295782 [32000/60000]\n",
      "loss: 2.298127 [38400/60000]\n",
      "loss: 2.302067 [44800/60000]\n",
      "loss: 2.312053 [51200/60000]\n",
      "loss: 2.288653 [57600/60000]\n",
      "Test Error: \n",
      " Accuracy: 13.6%, Avg Loss: 2.303258 \n",
      "\n",
      "Epoch: 4\n",
      "------------------------------\n",
      "loss: 2.314366 [    0/60000]\n",
      "loss: 2.309913 [ 6400/60000]\n",
      "loss: 2.316415 [12800/60000]\n",
      "loss: 2.306095 [19200/60000]\n",
      "loss: 2.300427 [25600/60000]\n",
      "loss: 2.295782 [32000/60000]\n",
      "loss: 2.298127 [38400/60000]\n",
      "loss: 2.302067 [44800/60000]\n",
      "loss: 2.312053 [51200/60000]\n",
      "loss: 2.288653 [57600/60000]\n",
      "Test Error: \n",
      " Accuracy: 13.6%, Avg Loss: 2.303258 \n",
      "\n",
      "Epoch: 5\n",
      "------------------------------\n",
      "loss: 2.314366 [    0/60000]\n",
      "loss: 2.309913 [ 6400/60000]\n",
      "loss: 2.316415 [12800/60000]\n",
      "loss: 2.306095 [19200/60000]\n",
      "loss: 2.300427 [25600/60000]\n",
      "loss: 2.295782 [32000/60000]\n",
      "loss: 2.298127 [38400/60000]\n",
      "loss: 2.302067 [44800/60000]\n",
      "loss: 2.312053 [51200/60000]\n",
      "loss: 2.288653 [57600/60000]\n",
      "Test Error: \n",
      " Accuracy: 13.6%, Avg Loss: 2.303258 \n",
      "\n",
      "Finished!\n"
     ]
    }
   ],
   "source": [
    "epochs = 5\n",
    "for e in range(epochs):\n",
    "    print(f\"Epoch: {e+1}\")\n",
    "    print('-'*30)\n",
    "    train(train_dataloader, model, lossfn, optim)\n",
    "    test(test_dataloader, model, lossfn)\n",
    "print(\"Finished!\")"
   ]
  },
  {
   "cell_type": "code",
   "execution_count": 28,
   "id": "6d84f703-f4ad-4a24-a9f5-ef6d97e23340",
   "metadata": {},
   "outputs": [],
   "source": [
    "# serialize the internal state dictionary containing the model parameters\n",
    "torch.save(model.state_dict(), \"model_FashionMNIST.pth\")"
   ]
  },
  {
   "cell_type": "code",
   "execution_count": null,
   "id": "8481d9dd-280f-4c28-bf4f-4433ac5ee07f",
   "metadata": {},
   "outputs": [],
   "source": []
  }
 ],
 "metadata": {
  "kernelspec": {
   "display_name": "Python 3 (ipykernel)",
   "language": "python",
   "name": "python3"
  },
  "language_info": {
   "codemirror_mode": {
    "name": "ipython",
    "version": 3
   },
   "file_extension": ".py",
   "mimetype": "text/x-python",
   "name": "python",
   "nbconvert_exporter": "python",
   "pygments_lexer": "ipython3",
   "version": "3.10.5"
  }
 },
 "nbformat": 4,
 "nbformat_minor": 5
}
