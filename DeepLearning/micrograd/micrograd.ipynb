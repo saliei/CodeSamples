{
 "cells": [
  {
   "cell_type": "code",
   "execution_count": 2,
   "id": "858b7ac7-9f49-46c9-b16e-387d7f812942",
   "metadata": {
    "tags": []
   },
   "outputs": [],
   "source": [
    "import numpy as np"
   ]
  },
  {
   "cell_type": "markdown",
   "id": "6380b3ef-74ae-44d6-84e2-d83b7fcf967a",
   "metadata": {},
   "source": [
    "*backpropagation* is the backbone of every neural networks engine, e.g. pytorch. \n",
    "maybe change the name to **chadGrad**, GigaGrad, ScalarFlow"
   ]
  },
  {
   "cell_type": "code",
   "execution_count": 115,
   "id": "5456f3ec-0e39-47bc-9a16-702cd878516d",
   "metadata": {
    "tags": []
   },
   "outputs": [],
   "source": [
    "# Value object takes a single scalar value and wraps it\n",
    "class Value:\n",
    "    def __init__(self, data, _children=(), _op='', _label=''):\n",
    "        self.data = data\n",
    "        # the children nodes resulting in Value object\n",
    "        self._prev = set(_children)\n",
    "        # the operation resulting in Value object\n",
    "        self._op = _op\n",
    "        # the label for a Value\n",
    "        self._label = _label\n",
    "        # by default we assume that a Value doesn't effect the output loss function,\n",
    "        # this is the gradient of the loss function, L, wrt this specific Value\n",
    "        self.grad = 0.0\n",
    "        # the backprop\n",
    "        self._backward = lambda: None\n",
    "        \n",
    "    def __repr__(self):\n",
    "        return f\"Value(data={self.data}, label={self._label})\"\n",
    "    \n",
    "    # keep track of the children in mul and add ops\n",
    "    def __add__(self, other):\n",
    "        # Value(data=2.0) + 1.0\n",
    "        other = other if isinstance(other, Value) else Value(other)\n",
    "        out = Value(self.data + other.data, (self, other), '+')\n",
    "        # here we have to set self.grad and other.grad,\n",
    "        # out = self + other\n",
    "        # dL/dself = dL/dout * dout/dself = out.grad * 1\n",
    "        # dL/dother = dL/dout * dout/dother = out.grad * 1\n",
    "        def _backward():\n",
    "            self.grad  += out.grad * 1.0\n",
    "            other.grad += out.grad * 1.0\n",
    "        out._backward = _backward\n",
    "        return out\n",
    "    \n",
    "    def __radd__(self, other):\n",
    "        return self + other\n",
    "    \n",
    "    def __mul__(self, other):\n",
    "        # Value(data=2.0) * 1.0\n",
    "        other = other if isinstance(other, Value) else Value(other)\n",
    "        out = Value(self.data * other.data, (self, other), '*')\n",
    "        # out = self * other\n",
    "        # dL/dself = dL/out * dout/dself = out.grad * other\n",
    "        # dL/dother = dL/dout * dout/dother = out.grad * self\n",
    "        def _backward():\n",
    "            self.grad  += out.grad * other.data\n",
    "            other.grad += out.grad * self.data\n",
    "        out._backward = _backward\n",
    "        return out\n",
    "    \n",
    "    def __rmul__(self, other):\n",
    "        # 1.0 * Value(data=2.0) -> Value(data=2.0) * 1.0\n",
    "        return self * other\n",
    "    \n",
    "    def __truediv__(self, other):\n",
    "        # self / other\n",
    "        return self * other**-1\n",
    "        \n",
    "    def __neg__(self):\n",
    "        return self * -1\n",
    "    \n",
    "    def __sub__(self, other):\n",
    "        return self + (-other)\n",
    "    \n",
    "    def __pow__(self, other):\n",
    "        # self ** other\n",
    "        assert isinstance(other, (int, float)), \"supports only int/flow in power\"\n",
    "        out = Value(self.data**other, (self, ), f\"**{other}\")\n",
    "        def _backward():\n",
    "            # out = self ** other\n",
    "            # dL/dself = dL/dout * dout/dself = out.grad * (other * self**(other-1))\n",
    "            self.grad += out.grad * other * self.data**(other-1)\n",
    "        out._backward = _backward\n",
    "        return out\n",
    "    \n",
    "    def exp(self):\n",
    "        x = self.data\n",
    "        out = Value(np.exp(x), (self,), \"exp\")\n",
    "        def _backward():\n",
    "            # out = exp(self)\n",
    "            # dL/dself = dL/dout * dout/dself = out.grad * exp(self)\n",
    "            self.grad = out.data * out.grad\n",
    "        out._backward = _backward\n",
    "        return out\n",
    "    \n",
    "    def tanh(self):\n",
    "        x = self.data\n",
    "        # tanh(x) = (e^x - e^-x) / (e^x + e^-x)\n",
    "        t = np.tanh(x)\n",
    "        out = Value(t, (self,), \"tanh\")\n",
    "        def _backward():\n",
    "            # out = tanh(self)\n",
    "            # dL/dself = dL/dout * dout/dself = out.grad * (1 - tanh^2(self))\n",
    "            self.grad = out.grad * (1 - t**2)\n",
    "        out._backward = _backward\n",
    "        return out\n",
    "    \n",
    "    def backward(self):\n",
    "        topo = []\n",
    "        visited = set()\n",
    "        def build_topo(v):\n",
    "            if v not in visited:\n",
    "                visited.add(v)\n",
    "                for child in v._prev:\n",
    "                    build_topo(child)\n",
    "                topo.append(v)\n",
    "        build_topo(self)\n",
    "        \n",
    "        self.grad = 1.0\n",
    "        for node in reversed(topo):\n",
    "            node._backward()"
   ]
  },
  {
   "cell_type": "code",
   "execution_count": 40,
   "id": "b097c59e-50fa-4759-9f82-dfdd85588fc2",
   "metadata": {
    "tags": []
   },
   "outputs": [
    {
     "name": "stdout",
     "output_type": "stream",
     "text": [
      "Value(data=3.0, label=a)\n",
      "Value(data=5.0, label=)\n",
      "Value(data=5.0, label=c)\n",
      "Value(data=6.0, label=d)\n",
      "{Value(data=3.0, label=a), Value(data=2.0, label=b)}\n",
      "*\n",
      "Value(data=5.5, label=L)\n"
     ]
    }
   ],
   "source": [
    "a = Value(3.0, _label='a')\n",
    "b = Value(2.0, _label='b')\n",
    "c = a + b; c._label='c'\n",
    "d = a * b; d._label='d'\n",
    "e = d + c; e._label='e'\n",
    "f = Value(data=0.5, _label='f')\n",
    "L = f * e; L._label='L'\n",
    "print(a)\n",
    "print(a.__add__(b))\n",
    "print(c)\n",
    "print(d)\n",
    "print(d._prev)\n",
    "print(d._op)\n",
    "print(L)"
   ]
  },
  {
   "cell_type": "code",
   "execution_count": 41,
   "id": "2643004d-68b8-4ff6-bd8d-18b3488513e9",
   "metadata": {},
   "outputs": [],
   "source": [
    "from graphviz import Digraph\n",
    "\n",
    "def trace(root):\n",
    "    # the set of all nodes and edges\n",
    "    nodes, edges = set(), set()\n",
    "    def build(v):\n",
    "        if v not in nodes:\n",
    "            nodes.add(v)\n",
    "            for child in v._prev:\n",
    "                edges.add((child, v))\n",
    "                build(child)\n",
    "    build(root)\n",
    "    return nodes, edges\n",
    "\n",
    "def draw_dot(root):\n",
    "    dot = Digraph(format=\"svg\", graph_attr={\"rankdir\": \"LR\"})\n",
    "    nodes, edges = trace(root)\n",
    "    for n in nodes:\n",
    "        uid = str(id(n))\n",
    "        # for any node (Value, op) in the graph put the value repr in a record (rectangle)\n",
    "        dot.node(name=uid, label=f\"{n._label}: {n.data:0.3f} | g:{n.grad:0.3f}\", shape=\"record\")\n",
    "        if n._op:\n",
    "            dot.node(name=uid+n._op, label=n._op)\n",
    "            dot.edge(uid+n._op, uid)\n",
    "    \n",
    "    # connect n1 and n2 with an edge\n",
    "    for n1, n2 in edges:\n",
    "        dot.edge(str(id(n1)), str(id(n2))+n2._op)\n",
    "        \n",
    "    return dot\n",
    "            "
   ]
  },
  {
   "cell_type": "code",
   "execution_count": 42,
   "id": "83323105-9d02-4f2b-8bfa-920148d4f176",
   "metadata": {
    "tags": []
   },
   "outputs": [
    {
     "data": {
      "image/svg+xml": [
       "<?xml version=\"1.0\" encoding=\"UTF-8\" standalone=\"no\"?>\n",
       "<!DOCTYPE svg PUBLIC \"-//W3C//DTD SVG 1.1//EN\"\n",
       " \"http://www.w3.org/Graphics/SVG/1.1/DTD/svg11.dtd\">\n",
       "<!-- Generated by graphviz version 8.0.3 (0)\n",
       " -->\n",
       "<!-- Pages: 1 -->\n",
       "<svg width=\"694pt\" height=\"153pt\"\n",
       " viewBox=\"0.00 0.00 694.00 153.00\" xmlns=\"http://www.w3.org/2000/svg\" xmlns:xlink=\"http://www.w3.org/1999/xlink\">\n",
       "<g id=\"graph0\" class=\"graph\" transform=\"scale(1 1) rotate(0) translate(4 149)\">\n",
       "<polygon fill=\"white\" stroke=\"none\" points=\"-4,4 -4,-149 690,-149 690,4 -4,4\"/>\n",
       "<!-- 139935301556768 -->\n",
       "<g id=\"node1\" class=\"node\">\n",
       "<title>139935301556768</title>\n",
       "<polygon fill=\"none\" stroke=\"black\" points=\"0.5,-98.5 0.5,-144.5 74.5,-144.5 74.5,-98.5 0.5,-98.5\"/>\n",
       "<text text-anchor=\"middle\" x=\"37.5\" y=\"-129.3\" font-family=\"Times,serif\" font-size=\"14.00\">a: 3.000</text>\n",
       "<polyline fill=\"none\" stroke=\"black\" points=\"0.5,-121.5 74.5,-121.5\"/>\n",
       "<text text-anchor=\"middle\" x=\"37.5\" y=\"-106.3\" font-family=\"Times,serif\" font-size=\"14.00\">g:0.000</text>\n",
       "</g>\n",
       "<!-- 139935301564784* -->\n",
       "<g id=\"node7\" class=\"node\">\n",
       "<title>139935301564784*</title>\n",
       "<ellipse fill=\"none\" stroke=\"black\" cx=\"138\" cy=\"-121.5\" rx=\"27\" ry=\"18\"/>\n",
       "<text text-anchor=\"middle\" x=\"138\" y=\"-117.8\" font-family=\"Times,serif\" font-size=\"14.00\">*</text>\n",
       "</g>\n",
       "<!-- 139935301556768&#45;&gt;139935301564784* -->\n",
       "<g id=\"edge8\" class=\"edge\">\n",
       "<title>139935301556768&#45;&gt;139935301564784*</title>\n",
       "<path fill=\"none\" stroke=\"black\" d=\"M74.34,-121.5C82.58,-121.5 91.37,-121.5 99.68,-121.5\"/>\n",
       "<polygon fill=\"black\" stroke=\"black\" points=\"99.61,-125 109.61,-121.5 99.61,-118 99.61,-125\"/>\n",
       "</g>\n",
       "<!-- 139935301564832+ -->\n",
       "<g id=\"node9\" class=\"node\">\n",
       "<title>139935301564832+</title>\n",
       "<ellipse fill=\"none\" stroke=\"black\" cx=\"138\" cy=\"-56.5\" rx=\"27\" ry=\"18\"/>\n",
       "<text text-anchor=\"middle\" x=\"138\" y=\"-52.8\" font-family=\"Times,serif\" font-size=\"14.00\">+</text>\n",
       "</g>\n",
       "<!-- 139935301556768&#45;&gt;139935301564832+ -->\n",
       "<g id=\"edge6\" class=\"edge\">\n",
       "<title>139935301556768&#45;&gt;139935301564832+</title>\n",
       "<path fill=\"none\" stroke=\"black\" d=\"M73.23,-98.58C85,-90.82 97.98,-82.25 109.15,-74.88\"/>\n",
       "<polygon fill=\"black\" stroke=\"black\" points=\"110.61,-77.45 117.03,-69.02 106.76,-71.6 110.61,-77.45\"/>\n",
       "</g>\n",
       "<!-- 139935301564976 -->\n",
       "<g id=\"node2\" class=\"node\">\n",
       "<title>139935301564976</title>\n",
       "<polygon fill=\"none\" stroke=\"black\" points=\"402,-65.5 402,-111.5 485,-111.5 485,-65.5 402,-65.5\"/>\n",
       "<text text-anchor=\"middle\" x=\"443.5\" y=\"-96.3\" font-family=\"Times,serif\" font-size=\"14.00\">e: 11.000</text>\n",
       "<polyline fill=\"none\" stroke=\"black\" points=\"402,-88.5 485,-88.5\"/>\n",
       "<text text-anchor=\"middle\" x=\"443.5\" y=\"-73.3\" font-family=\"Times,serif\" font-size=\"14.00\">g:0.000</text>\n",
       "</g>\n",
       "<!-- 139935301555184* -->\n",
       "<g id=\"node11\" class=\"node\">\n",
       "<title>139935301555184*</title>\n",
       "<ellipse fill=\"none\" stroke=\"black\" cx=\"548\" cy=\"-55.5\" rx=\"27\" ry=\"18\"/>\n",
       "<text text-anchor=\"middle\" x=\"548\" y=\"-51.8\" font-family=\"Times,serif\" font-size=\"14.00\">*</text>\n",
       "</g>\n",
       "<!-- 139935301564976&#45;&gt;139935301555184* -->\n",
       "<g id=\"edge12\" class=\"edge\">\n",
       "<title>139935301564976&#45;&gt;139935301555184*</title>\n",
       "<path fill=\"none\" stroke=\"black\" d=\"M484.72,-75.55C494.07,-72.54 503.94,-69.36 512.99,-66.45\"/>\n",
       "<polygon fill=\"black\" stroke=\"black\" points=\"513.72,-69.57 522.17,-63.17 511.57,-62.91 513.72,-69.57\"/>\n",
       "</g>\n",
       "<!-- 139935301564976+ -->\n",
       "<g id=\"node3\" class=\"node\">\n",
       "<title>139935301564976+</title>\n",
       "<ellipse fill=\"none\" stroke=\"black\" cx=\"339\" cy=\"-88.5\" rx=\"27\" ry=\"18\"/>\n",
       "<text text-anchor=\"middle\" x=\"339\" y=\"-84.8\" font-family=\"Times,serif\" font-size=\"14.00\">+</text>\n",
       "</g>\n",
       "<!-- 139935301564976+&#45;&gt;139935301564976 -->\n",
       "<g id=\"edge1\" class=\"edge\">\n",
       "<title>139935301564976+&#45;&gt;139935301564976</title>\n",
       "<path fill=\"none\" stroke=\"black\" d=\"M366.4,-88.5C374.07,-88.5 382.73,-88.5 391.38,-88.5\"/>\n",
       "<polygon fill=\"black\" stroke=\"black\" points=\"391.26,-92 401.26,-88.5 391.26,-85 391.26,-92\"/>\n",
       "</g>\n",
       "<!-- 139935301556288 -->\n",
       "<g id=\"node4\" class=\"node\">\n",
       "<title>139935301556288</title>\n",
       "<polygon fill=\"none\" stroke=\"black\" points=\"0,-33.5 0,-79.5 75,-79.5 75,-33.5 0,-33.5\"/>\n",
       "<text text-anchor=\"middle\" x=\"37.5\" y=\"-64.3\" font-family=\"Times,serif\" font-size=\"14.00\">b: 2.000</text>\n",
       "<polyline fill=\"none\" stroke=\"black\" points=\"0,-56.5 75,-56.5\"/>\n",
       "<text text-anchor=\"middle\" x=\"37.5\" y=\"-41.3\" font-family=\"Times,serif\" font-size=\"14.00\">g:0.000</text>\n",
       "</g>\n",
       "<!-- 139935301556288&#45;&gt;139935301564784* -->\n",
       "<g id=\"edge11\" class=\"edge\">\n",
       "<title>139935301556288&#45;&gt;139935301564784*</title>\n",
       "<path fill=\"none\" stroke=\"black\" d=\"M73.23,-79.42C85,-87.18 97.98,-95.75 109.15,-103.12\"/>\n",
       "<polygon fill=\"black\" stroke=\"black\" points=\"106.76,-106.4 117.03,-108.98 110.61,-100.55 106.76,-106.4\"/>\n",
       "</g>\n",
       "<!-- 139935301556288&#45;&gt;139935301564832+ -->\n",
       "<g id=\"edge9\" class=\"edge\">\n",
       "<title>139935301556288&#45;&gt;139935301564832+</title>\n",
       "<path fill=\"none\" stroke=\"black\" d=\"M74.9,-56.5C83.04,-56.5 91.68,-56.5 99.85,-56.5\"/>\n",
       "<polygon fill=\"black\" stroke=\"black\" points=\"99.6,-60 109.6,-56.5 99.6,-53 99.6,-60\"/>\n",
       "</g>\n",
       "<!-- 139935301564736 -->\n",
       "<g id=\"node5\" class=\"node\">\n",
       "<title>139935301564736</title>\n",
       "<polygon fill=\"none\" stroke=\"black\" points=\"408,-0.5 408,-46.5 479,-46.5 479,-0.5 408,-0.5\"/>\n",
       "<text text-anchor=\"middle\" x=\"443.5\" y=\"-31.3\" font-family=\"Times,serif\" font-size=\"14.00\">f: 0.500</text>\n",
       "<polyline fill=\"none\" stroke=\"black\" points=\"408,-23.5 479,-23.5\"/>\n",
       "<text text-anchor=\"middle\" x=\"443.5\" y=\"-8.3\" font-family=\"Times,serif\" font-size=\"14.00\">g:0.000</text>\n",
       "</g>\n",
       "<!-- 139935301564736&#45;&gt;139935301555184* -->\n",
       "<g id=\"edge5\" class=\"edge\">\n",
       "<title>139935301564736&#45;&gt;139935301555184*</title>\n",
       "<path fill=\"none\" stroke=\"black\" d=\"M478.92,-34.24C489.82,-37.65 501.87,-41.41 512.76,-44.81\"/>\n",
       "<polygon fill=\"black\" stroke=\"black\" points=\"511.59,-48.43 522.18,-48.06 513.68,-41.74 511.59,-48.43\"/>\n",
       "</g>\n",
       "<!-- 139935301564784 -->\n",
       "<g id=\"node6\" class=\"node\">\n",
       "<title>139935301564784</title>\n",
       "<polygon fill=\"none\" stroke=\"black\" points=\"201,-98.5 201,-144.5 276,-144.5 276,-98.5 201,-98.5\"/>\n",
       "<text text-anchor=\"middle\" x=\"238.5\" y=\"-129.3\" font-family=\"Times,serif\" font-size=\"14.00\">d: 6.000</text>\n",
       "<polyline fill=\"none\" stroke=\"black\" points=\"201,-121.5 276,-121.5\"/>\n",
       "<text text-anchor=\"middle\" x=\"238.5\" y=\"-106.3\" font-family=\"Times,serif\" font-size=\"14.00\">g:0.000</text>\n",
       "</g>\n",
       "<!-- 139935301564784&#45;&gt;139935301564976+ -->\n",
       "<g id=\"edge7\" class=\"edge\">\n",
       "<title>139935301564784&#45;&gt;139935301564976+</title>\n",
       "<path fill=\"none\" stroke=\"black\" d=\"M275.9,-109.31C285.12,-106.22 294.98,-102.91 304.07,-99.87\"/>\n",
       "<polygon fill=\"black\" stroke=\"black\" points=\"304.93,-102.94 313.3,-96.44 302.7,-96.3 304.93,-102.94\"/>\n",
       "</g>\n",
       "<!-- 139935301564784*&#45;&gt;139935301564784 -->\n",
       "<g id=\"edge2\" class=\"edge\">\n",
       "<title>139935301564784*&#45;&gt;139935301564784</title>\n",
       "<path fill=\"none\" stroke=\"black\" d=\"M165.4,-121.5C173.09,-121.5 181.74,-121.5 190.3,-121.5\"/>\n",
       "<polygon fill=\"black\" stroke=\"black\" points=\"190.03,-125 200.03,-121.5 190.03,-118 190.03,-125\"/>\n",
       "</g>\n",
       "<!-- 139935301564832 -->\n",
       "<g id=\"node8\" class=\"node\">\n",
       "<title>139935301564832</title>\n",
       "<polygon fill=\"none\" stroke=\"black\" points=\"201.5,-33.5 201.5,-79.5 275.5,-79.5 275.5,-33.5 201.5,-33.5\"/>\n",
       "<text text-anchor=\"middle\" x=\"238.5\" y=\"-64.3\" font-family=\"Times,serif\" font-size=\"14.00\">c: 5.000</text>\n",
       "<polyline fill=\"none\" stroke=\"black\" points=\"201.5,-56.5 275.5,-56.5\"/>\n",
       "<text text-anchor=\"middle\" x=\"238.5\" y=\"-41.3\" font-family=\"Times,serif\" font-size=\"14.00\">g:0.000</text>\n",
       "</g>\n",
       "<!-- 139935301564832&#45;&gt;139935301564976+ -->\n",
       "<g id=\"edge10\" class=\"edge\">\n",
       "<title>139935301564832&#45;&gt;139935301564976+</title>\n",
       "<path fill=\"none\" stroke=\"black\" d=\"M275.34,-68.14C284.67,-71.17 294.7,-74.43 303.93,-77.43\"/>\n",
       "<polygon fill=\"black\" stroke=\"black\" points=\"302.73,-81.05 313.32,-80.81 304.89,-74.39 302.73,-81.05\"/>\n",
       "</g>\n",
       "<!-- 139935301564832+&#45;&gt;139935301564832 -->\n",
       "<g id=\"edge3\" class=\"edge\">\n",
       "<title>139935301564832+&#45;&gt;139935301564832</title>\n",
       "<path fill=\"none\" stroke=\"black\" d=\"M165.4,-56.5C173.25,-56.5 182.1,-56.5 190.84,-56.5\"/>\n",
       "<polygon fill=\"black\" stroke=\"black\" points=\"190.77,-60 200.77,-56.5 190.77,-53 190.77,-60\"/>\n",
       "</g>\n",
       "<!-- 139935301555184 -->\n",
       "<g id=\"node10\" class=\"node\">\n",
       "<title>139935301555184</title>\n",
       "<polygon fill=\"none\" stroke=\"black\" points=\"611,-32.5 611,-78.5 686,-78.5 686,-32.5 611,-32.5\"/>\n",
       "<text text-anchor=\"middle\" x=\"648.5\" y=\"-63.3\" font-family=\"Times,serif\" font-size=\"14.00\">L: 5.500</text>\n",
       "<polyline fill=\"none\" stroke=\"black\" points=\"611,-55.5 686,-55.5\"/>\n",
       "<text text-anchor=\"middle\" x=\"648.5\" y=\"-40.3\" font-family=\"Times,serif\" font-size=\"14.00\">g:0.000</text>\n",
       "</g>\n",
       "<!-- 139935301555184*&#45;&gt;139935301555184 -->\n",
       "<g id=\"edge4\" class=\"edge\">\n",
       "<title>139935301555184*&#45;&gt;139935301555184</title>\n",
       "<path fill=\"none\" stroke=\"black\" d=\"M575.4,-55.5C583.09,-55.5 591.74,-55.5 600.3,-55.5\"/>\n",
       "<polygon fill=\"black\" stroke=\"black\" points=\"600.03,-59 610.03,-55.5 600.03,-52 600.03,-59\"/>\n",
       "</g>\n",
       "</g>\n",
       "</svg>\n"
      ],
      "text/plain": [
       "<graphviz.graphs.Digraph at 0x7f4539e84fd0>"
      ]
     },
     "execution_count": 42,
     "metadata": {},
     "output_type": "execute_result"
    }
   ],
   "source": [
    "draw_dot(L)"
   ]
  },
  {
   "cell_type": "markdown",
   "id": "914fdd47-6b7b-41d5-9961-1c2d930dbefe",
   "metadata": {},
   "source": [
    "Now we have to calculate the gradient of loss function, L, with respect to each node. We know that the $\\frac{\\partial L}{\\partial L} = 1$, and by the above computation graph we can deduce that:\n",
    "$$\n",
    "\\begin{align}\n",
    "\\frac{\\partial L}{\\partial f} &= e, \\\\\n",
    "\\frac{\\partial L}{\\partial e} &= f, \\\\\n",
    "\\frac{\\partial L}{\\partial c} &= \\frac{\\partial L}{\\partial e}\\frac{\\partial e}{\\partial c} = f \\times 1 = f\n",
    "\\end{align}\n",
    "$$\n",
    "\n",
    "we can see that the role of a plus node is to just pass on the gradient to the previous nodes in the compuation graph."
   ]
  },
  {
   "cell_type": "code",
   "execution_count": 43,
   "id": "f8104f9f-c6be-443d-a259-fe6d05492d12",
   "metadata": {
    "tags": []
   },
   "outputs": [],
   "source": [
    "L.grad = 1\n",
    "f.grad = e.data\n",
    "e.grad = f.data\n",
    "c.grad = e.grad\n",
    "d.grad = e.grad"
   ]
  },
  {
   "cell_type": "markdown",
   "id": "0803071d-1119-4f8d-b1f1-f1db69b64fca",
   "metadata": {},
   "source": [
    "Now we can do the same for the previous add and mul nodes:\n",
    "\n",
    "$$\n",
    "\\begin{align}\n",
    "\\frac{\\partial L}{\\partial a} &= \\frac{\\partial L}{\\partial d} \\frac{\\partial d}{\\partial a} + \n",
    "\\frac{\\partial L}{\\partial c}\\frac{\\partial c}{\\partial a} \\\\\n",
    "&= 0.5 \\times b + 0.5 \\times 1 = 0.5 \\times 2 + 0.5 = 1.5\n",
    "\\end{align}\n",
    "$$\n",
    "\n",
    "$$\n",
    "\\begin{align}\n",
    "\\frac{\\partial L}{\\partial b} &= \\frac{\\partial L}{\\partial c} \\frac{\\partial c}{\\partial b} + \n",
    "\\frac{\\partial L}{\\partial d}\\frac{\\partial d}{\\partial b} \\\\\n",
    "&= 0.5 \\times 1 + 0.5 \\times a = 0.5 \\times 1 + 0.5 * 3 = 2\n",
    "\\end{align}\n",
    "$$"
   ]
  },
  {
   "cell_type": "code",
   "execution_count": 44,
   "id": "762ac6d3-f551-4823-9e32-45991001c0d7",
   "metadata": {
    "tags": []
   },
   "outputs": [],
   "source": [
    "a.grad = 1.5\n",
    "b.grad = 2"
   ]
  },
  {
   "cell_type": "code",
   "execution_count": 45,
   "id": "97319b5f-a5da-4d2b-b818-34030be9b299",
   "metadata": {
    "tags": []
   },
   "outputs": [
    {
     "data": {
      "image/svg+xml": [
       "<?xml version=\"1.0\" encoding=\"UTF-8\" standalone=\"no\"?>\n",
       "<!DOCTYPE svg PUBLIC \"-//W3C//DTD SVG 1.1//EN\"\n",
       " \"http://www.w3.org/Graphics/SVG/1.1/DTD/svg11.dtd\">\n",
       "<!-- Generated by graphviz version 8.0.3 (0)\n",
       " -->\n",
       "<!-- Pages: 1 -->\n",
       "<svg width=\"694pt\" height=\"153pt\"\n",
       " viewBox=\"0.00 0.00 694.00 153.00\" xmlns=\"http://www.w3.org/2000/svg\" xmlns:xlink=\"http://www.w3.org/1999/xlink\">\n",
       "<g id=\"graph0\" class=\"graph\" transform=\"scale(1 1) rotate(0) translate(4 149)\">\n",
       "<polygon fill=\"white\" stroke=\"none\" points=\"-4,4 -4,-149 690,-149 690,4 -4,4\"/>\n",
       "<!-- 139935301556768 -->\n",
       "<g id=\"node1\" class=\"node\">\n",
       "<title>139935301556768</title>\n",
       "<polygon fill=\"none\" stroke=\"black\" points=\"0.5,-98.5 0.5,-144.5 74.5,-144.5 74.5,-98.5 0.5,-98.5\"/>\n",
       "<text text-anchor=\"middle\" x=\"37.5\" y=\"-129.3\" font-family=\"Times,serif\" font-size=\"14.00\">a: 3.000</text>\n",
       "<polyline fill=\"none\" stroke=\"black\" points=\"0.5,-121.5 74.5,-121.5\"/>\n",
       "<text text-anchor=\"middle\" x=\"37.5\" y=\"-106.3\" font-family=\"Times,serif\" font-size=\"14.00\">g:1.500</text>\n",
       "</g>\n",
       "<!-- 139935301564784* -->\n",
       "<g id=\"node7\" class=\"node\">\n",
       "<title>139935301564784*</title>\n",
       "<ellipse fill=\"none\" stroke=\"black\" cx=\"138\" cy=\"-121.5\" rx=\"27\" ry=\"18\"/>\n",
       "<text text-anchor=\"middle\" x=\"138\" y=\"-117.8\" font-family=\"Times,serif\" font-size=\"14.00\">*</text>\n",
       "</g>\n",
       "<!-- 139935301556768&#45;&gt;139935301564784* -->\n",
       "<g id=\"edge8\" class=\"edge\">\n",
       "<title>139935301556768&#45;&gt;139935301564784*</title>\n",
       "<path fill=\"none\" stroke=\"black\" d=\"M74.34,-121.5C82.58,-121.5 91.37,-121.5 99.68,-121.5\"/>\n",
       "<polygon fill=\"black\" stroke=\"black\" points=\"99.61,-125 109.61,-121.5 99.61,-118 99.61,-125\"/>\n",
       "</g>\n",
       "<!-- 139935301564832+ -->\n",
       "<g id=\"node9\" class=\"node\">\n",
       "<title>139935301564832+</title>\n",
       "<ellipse fill=\"none\" stroke=\"black\" cx=\"138\" cy=\"-56.5\" rx=\"27\" ry=\"18\"/>\n",
       "<text text-anchor=\"middle\" x=\"138\" y=\"-52.8\" font-family=\"Times,serif\" font-size=\"14.00\">+</text>\n",
       "</g>\n",
       "<!-- 139935301556768&#45;&gt;139935301564832+ -->\n",
       "<g id=\"edge6\" class=\"edge\">\n",
       "<title>139935301556768&#45;&gt;139935301564832+</title>\n",
       "<path fill=\"none\" stroke=\"black\" d=\"M73.23,-98.58C85,-90.82 97.98,-82.25 109.15,-74.88\"/>\n",
       "<polygon fill=\"black\" stroke=\"black\" points=\"110.61,-77.45 117.03,-69.02 106.76,-71.6 110.61,-77.45\"/>\n",
       "</g>\n",
       "<!-- 139935301564976 -->\n",
       "<g id=\"node2\" class=\"node\">\n",
       "<title>139935301564976</title>\n",
       "<polygon fill=\"none\" stroke=\"black\" points=\"402,-65.5 402,-111.5 485,-111.5 485,-65.5 402,-65.5\"/>\n",
       "<text text-anchor=\"middle\" x=\"443.5\" y=\"-96.3\" font-family=\"Times,serif\" font-size=\"14.00\">e: 11.000</text>\n",
       "<polyline fill=\"none\" stroke=\"black\" points=\"402,-88.5 485,-88.5\"/>\n",
       "<text text-anchor=\"middle\" x=\"443.5\" y=\"-73.3\" font-family=\"Times,serif\" font-size=\"14.00\">g:0.500</text>\n",
       "</g>\n",
       "<!-- 139935301555184* -->\n",
       "<g id=\"node11\" class=\"node\">\n",
       "<title>139935301555184*</title>\n",
       "<ellipse fill=\"none\" stroke=\"black\" cx=\"548\" cy=\"-55.5\" rx=\"27\" ry=\"18\"/>\n",
       "<text text-anchor=\"middle\" x=\"548\" y=\"-51.8\" font-family=\"Times,serif\" font-size=\"14.00\">*</text>\n",
       "</g>\n",
       "<!-- 139935301564976&#45;&gt;139935301555184* -->\n",
       "<g id=\"edge12\" class=\"edge\">\n",
       "<title>139935301564976&#45;&gt;139935301555184*</title>\n",
       "<path fill=\"none\" stroke=\"black\" d=\"M484.72,-75.55C494.07,-72.54 503.94,-69.36 512.99,-66.45\"/>\n",
       "<polygon fill=\"black\" stroke=\"black\" points=\"513.72,-69.57 522.17,-63.17 511.57,-62.91 513.72,-69.57\"/>\n",
       "</g>\n",
       "<!-- 139935301564976+ -->\n",
       "<g id=\"node3\" class=\"node\">\n",
       "<title>139935301564976+</title>\n",
       "<ellipse fill=\"none\" stroke=\"black\" cx=\"339\" cy=\"-88.5\" rx=\"27\" ry=\"18\"/>\n",
       "<text text-anchor=\"middle\" x=\"339\" y=\"-84.8\" font-family=\"Times,serif\" font-size=\"14.00\">+</text>\n",
       "</g>\n",
       "<!-- 139935301564976+&#45;&gt;139935301564976 -->\n",
       "<g id=\"edge1\" class=\"edge\">\n",
       "<title>139935301564976+&#45;&gt;139935301564976</title>\n",
       "<path fill=\"none\" stroke=\"black\" d=\"M366.4,-88.5C374.07,-88.5 382.73,-88.5 391.38,-88.5\"/>\n",
       "<polygon fill=\"black\" stroke=\"black\" points=\"391.26,-92 401.26,-88.5 391.26,-85 391.26,-92\"/>\n",
       "</g>\n",
       "<!-- 139935301556288 -->\n",
       "<g id=\"node4\" class=\"node\">\n",
       "<title>139935301556288</title>\n",
       "<polygon fill=\"none\" stroke=\"black\" points=\"0,-33.5 0,-79.5 75,-79.5 75,-33.5 0,-33.5\"/>\n",
       "<text text-anchor=\"middle\" x=\"37.5\" y=\"-64.3\" font-family=\"Times,serif\" font-size=\"14.00\">b: 2.000</text>\n",
       "<polyline fill=\"none\" stroke=\"black\" points=\"0,-56.5 75,-56.5\"/>\n",
       "<text text-anchor=\"middle\" x=\"37.5\" y=\"-41.3\" font-family=\"Times,serif\" font-size=\"14.00\">g:2.000</text>\n",
       "</g>\n",
       "<!-- 139935301556288&#45;&gt;139935301564784* -->\n",
       "<g id=\"edge11\" class=\"edge\">\n",
       "<title>139935301556288&#45;&gt;139935301564784*</title>\n",
       "<path fill=\"none\" stroke=\"black\" d=\"M73.23,-79.42C85,-87.18 97.98,-95.75 109.15,-103.12\"/>\n",
       "<polygon fill=\"black\" stroke=\"black\" points=\"106.76,-106.4 117.03,-108.98 110.61,-100.55 106.76,-106.4\"/>\n",
       "</g>\n",
       "<!-- 139935301556288&#45;&gt;139935301564832+ -->\n",
       "<g id=\"edge9\" class=\"edge\">\n",
       "<title>139935301556288&#45;&gt;139935301564832+</title>\n",
       "<path fill=\"none\" stroke=\"black\" d=\"M74.9,-56.5C83.04,-56.5 91.68,-56.5 99.85,-56.5\"/>\n",
       "<polygon fill=\"black\" stroke=\"black\" points=\"99.6,-60 109.6,-56.5 99.6,-53 99.6,-60\"/>\n",
       "</g>\n",
       "<!-- 139935301564736 -->\n",
       "<g id=\"node5\" class=\"node\">\n",
       "<title>139935301564736</title>\n",
       "<polygon fill=\"none\" stroke=\"black\" points=\"403.5,-0.5 403.5,-46.5 483.5,-46.5 483.5,-0.5 403.5,-0.5\"/>\n",
       "<text text-anchor=\"middle\" x=\"443.5\" y=\"-31.3\" font-family=\"Times,serif\" font-size=\"14.00\">f: 0.500</text>\n",
       "<polyline fill=\"none\" stroke=\"black\" points=\"403.5,-23.5 483.5,-23.5\"/>\n",
       "<text text-anchor=\"middle\" x=\"443.5\" y=\"-8.3\" font-family=\"Times,serif\" font-size=\"14.00\">g:11.000</text>\n",
       "</g>\n",
       "<!-- 139935301564736&#45;&gt;139935301555184* -->\n",
       "<g id=\"edge5\" class=\"edge\">\n",
       "<title>139935301564736&#45;&gt;139935301555184*</title>\n",
       "<path fill=\"none\" stroke=\"black\" d=\"M483.25,-35.6C492.97,-38.63 503.33,-41.87 512.81,-44.83\"/>\n",
       "<polygon fill=\"black\" stroke=\"black\" points=\"511.47,-48.39 522.06,-48.03 513.56,-41.71 511.47,-48.39\"/>\n",
       "</g>\n",
       "<!-- 139935301564784 -->\n",
       "<g id=\"node6\" class=\"node\">\n",
       "<title>139935301564784</title>\n",
       "<polygon fill=\"none\" stroke=\"black\" points=\"201,-98.5 201,-144.5 276,-144.5 276,-98.5 201,-98.5\"/>\n",
       "<text text-anchor=\"middle\" x=\"238.5\" y=\"-129.3\" font-family=\"Times,serif\" font-size=\"14.00\">d: 6.000</text>\n",
       "<polyline fill=\"none\" stroke=\"black\" points=\"201,-121.5 276,-121.5\"/>\n",
       "<text text-anchor=\"middle\" x=\"238.5\" y=\"-106.3\" font-family=\"Times,serif\" font-size=\"14.00\">g:0.500</text>\n",
       "</g>\n",
       "<!-- 139935301564784&#45;&gt;139935301564976+ -->\n",
       "<g id=\"edge7\" class=\"edge\">\n",
       "<title>139935301564784&#45;&gt;139935301564976+</title>\n",
       "<path fill=\"none\" stroke=\"black\" d=\"M275.9,-109.31C285.12,-106.22 294.98,-102.91 304.07,-99.87\"/>\n",
       "<polygon fill=\"black\" stroke=\"black\" points=\"304.93,-102.94 313.3,-96.44 302.7,-96.3 304.93,-102.94\"/>\n",
       "</g>\n",
       "<!-- 139935301564784*&#45;&gt;139935301564784 -->\n",
       "<g id=\"edge2\" class=\"edge\">\n",
       "<title>139935301564784*&#45;&gt;139935301564784</title>\n",
       "<path fill=\"none\" stroke=\"black\" d=\"M165.4,-121.5C173.09,-121.5 181.74,-121.5 190.3,-121.5\"/>\n",
       "<polygon fill=\"black\" stroke=\"black\" points=\"190.03,-125 200.03,-121.5 190.03,-118 190.03,-125\"/>\n",
       "</g>\n",
       "<!-- 139935301564832 -->\n",
       "<g id=\"node8\" class=\"node\">\n",
       "<title>139935301564832</title>\n",
       "<polygon fill=\"none\" stroke=\"black\" points=\"201.5,-33.5 201.5,-79.5 275.5,-79.5 275.5,-33.5 201.5,-33.5\"/>\n",
       "<text text-anchor=\"middle\" x=\"238.5\" y=\"-64.3\" font-family=\"Times,serif\" font-size=\"14.00\">c: 5.000</text>\n",
       "<polyline fill=\"none\" stroke=\"black\" points=\"201.5,-56.5 275.5,-56.5\"/>\n",
       "<text text-anchor=\"middle\" x=\"238.5\" y=\"-41.3\" font-family=\"Times,serif\" font-size=\"14.00\">g:0.500</text>\n",
       "</g>\n",
       "<!-- 139935301564832&#45;&gt;139935301564976+ -->\n",
       "<g id=\"edge10\" class=\"edge\">\n",
       "<title>139935301564832&#45;&gt;139935301564976+</title>\n",
       "<path fill=\"none\" stroke=\"black\" d=\"M275.34,-68.14C284.67,-71.17 294.7,-74.43 303.93,-77.43\"/>\n",
       "<polygon fill=\"black\" stroke=\"black\" points=\"302.73,-81.05 313.32,-80.81 304.89,-74.39 302.73,-81.05\"/>\n",
       "</g>\n",
       "<!-- 139935301564832+&#45;&gt;139935301564832 -->\n",
       "<g id=\"edge3\" class=\"edge\">\n",
       "<title>139935301564832+&#45;&gt;139935301564832</title>\n",
       "<path fill=\"none\" stroke=\"black\" d=\"M165.4,-56.5C173.25,-56.5 182.1,-56.5 190.84,-56.5\"/>\n",
       "<polygon fill=\"black\" stroke=\"black\" points=\"190.77,-60 200.77,-56.5 190.77,-53 190.77,-60\"/>\n",
       "</g>\n",
       "<!-- 139935301555184 -->\n",
       "<g id=\"node10\" class=\"node\">\n",
       "<title>139935301555184</title>\n",
       "<polygon fill=\"none\" stroke=\"black\" points=\"611,-32.5 611,-78.5 686,-78.5 686,-32.5 611,-32.5\"/>\n",
       "<text text-anchor=\"middle\" x=\"648.5\" y=\"-63.3\" font-family=\"Times,serif\" font-size=\"14.00\">L: 5.500</text>\n",
       "<polyline fill=\"none\" stroke=\"black\" points=\"611,-55.5 686,-55.5\"/>\n",
       "<text text-anchor=\"middle\" x=\"648.5\" y=\"-40.3\" font-family=\"Times,serif\" font-size=\"14.00\">g:1.000</text>\n",
       "</g>\n",
       "<!-- 139935301555184*&#45;&gt;139935301555184 -->\n",
       "<g id=\"edge4\" class=\"edge\">\n",
       "<title>139935301555184*&#45;&gt;139935301555184</title>\n",
       "<path fill=\"none\" stroke=\"black\" d=\"M575.4,-55.5C583.09,-55.5 591.74,-55.5 600.3,-55.5\"/>\n",
       "<polygon fill=\"black\" stroke=\"black\" points=\"600.03,-59 610.03,-55.5 600.03,-52 600.03,-59\"/>\n",
       "</g>\n",
       "</g>\n",
       "</svg>\n"
      ],
      "text/plain": [
       "<graphviz.graphs.Digraph at 0x7f4539e853f0>"
      ]
     },
     "execution_count": 45,
     "metadata": {},
     "output_type": "execute_result"
    }
   ],
   "source": [
    "draw_dot(L)"
   ]
  },
  {
   "cell_type": "markdown",
   "id": "816698f6-fdb8-44f8-ae17-53d2904b79e2",
   "metadata": {},
   "source": [
    "Now we can actually use these backpropagated grads to reduce the final loss in each iteration, we need to just nudge the values by the grads, in the opposite direction of the grad:"
   ]
  },
  {
   "cell_type": "code",
   "execution_count": 46,
   "id": "27830809-4146-405e-94f0-e76e2a902606",
   "metadata": {
    "tags": []
   },
   "outputs": [
    {
     "data": {
      "text/plain": [
       "Value(data=4.241366999999999, label=)"
      ]
     },
     "execution_count": 46,
     "metadata": {},
     "output_type": "execute_result"
    }
   ],
   "source": [
    "a.data -= 0.01 * a.grad\n",
    "b.data -= 0.01 * b.grad\n",
    "f.data -= 0.01 * f.grad\n",
    "c = a + b\n",
    "d = a * b\n",
    "e = c + d\n",
    "L = e * f\n",
    "L"
   ]
  },
  {
   "cell_type": "markdown",
   "id": "29db0d9f-ec2f-45d5-aed9-e66a2118a3ea",
   "metadata": {},
   "source": [
    "We can now apply this manual backpropagation to an actual perceptron that gets two input arrays, $w_i$ and $x_i$, and outputs an activation function, e.g. $tanh$, applied to $w_i*x_i + b$, e.g. $tanh(w1*x1 + w2*x2 + b)$"
   ]
  },
  {
   "cell_type": "code",
   "execution_count": 94,
   "id": "11c953f1-6f00-4aee-84c1-58b1f69a53c3",
   "metadata": {
    "tags": []
   },
   "outputs": [],
   "source": [
    "x1 = Value(2.0, _label=\"x1\")\n",
    "x2 = Value(0.0, _label=\"x2\")\n",
    "w1 = Value(-3.0, _label=\"w1\")\n",
    "w2 = Value(1.0, _label=\"w2\")\n",
    "# bias of the neuron\n",
    "b = Value(6.8813, _label='b')\n",
    "wx1 = w1 * x1; wx1._label = \"wx1\"\n",
    "wx2 = w2 * x2; wx2._label = \"wx2\"\n",
    "wx12 = wx1 + wx2; wx12._label = \"wx12\"\n",
    "\n",
    "n = wx12 + b; n._label = 'n'\n",
    "o = n.tanh(); o._label = 'o'"
   ]
  },
  {
   "cell_type": "code",
   "execution_count": 85,
   "id": "ed2831f8-28f6-4725-90a9-d80bb83c1112",
   "metadata": {
    "tags": []
   },
   "outputs": [
    {
     "data": {
      "image/svg+xml": [
       "<?xml version=\"1.0\" encoding=\"UTF-8\" standalone=\"no\"?>\n",
       "<!DOCTYPE svg PUBLIC \"-//W3C//DTD SVG 1.1//EN\"\n",
       " \"http://www.w3.org/Graphics/SVG/1.1/DTD/svg11.dtd\">\n",
       "<!-- Generated by graphviz version 8.0.3 (0)\n",
       " -->\n",
       "<!-- Pages: 1 -->\n",
       "<svg width=\"972pt\" height=\"250pt\"\n",
       " viewBox=\"0.00 0.00 971.69 250.00\" xmlns=\"http://www.w3.org/2000/svg\" xmlns:xlink=\"http://www.w3.org/1999/xlink\">\n",
       "<g id=\"graph0\" class=\"graph\" transform=\"scale(1 1) rotate(0) translate(4 246)\">\n",
       "<polygon fill=\"white\" stroke=\"none\" points=\"-4,4 -4,-246 967.69,-246 967.69,4 -4,4\"/>\n",
       "<!-- 139935301551104 -->\n",
       "<g id=\"node1\" class=\"node\">\n",
       "<title>139935301551104</title>\n",
       "<polygon fill=\"none\" stroke=\"black\" points=\"679,-129.5 679,-175.5 754,-175.5 754,-129.5 679,-129.5\"/>\n",
       "<text text-anchor=\"middle\" x=\"716.5\" y=\"-160.3\" font-family=\"Times,serif\" font-size=\"14.00\">n: 0.881</text>\n",
       "<polyline fill=\"none\" stroke=\"black\" points=\"679,-152.5 754,-152.5\"/>\n",
       "<text text-anchor=\"middle\" x=\"716.5\" y=\"-137.3\" font-family=\"Times,serif\" font-size=\"14.00\">g:0.500</text>\n",
       "</g>\n",
       "<!-- 139935301550576tanh -->\n",
       "<g id=\"node15\" class=\"node\">\n",
       "<title>139935301550576tanh</title>\n",
       "<ellipse fill=\"none\" stroke=\"black\" cx=\"821.85\" cy=\"-152.5\" rx=\"31.7\" ry=\"18\"/>\n",
       "<text text-anchor=\"middle\" x=\"821.85\" y=\"-148.8\" font-family=\"Times,serif\" font-size=\"14.00\">tanh</text>\n",
       "</g>\n",
       "<!-- 139935301551104&#45;&gt;139935301550576tanh -->\n",
       "<g id=\"edge10\" class=\"edge\">\n",
       "<title>139935301551104&#45;&gt;139935301550576tanh</title>\n",
       "<path fill=\"none\" stroke=\"black\" d=\"M753.94,-152.5C762.01,-152.5 770.62,-152.5 778.89,-152.5\"/>\n",
       "<polygon fill=\"black\" stroke=\"black\" points=\"778.87,-156 788.87,-152.5 778.87,-149 778.87,-156\"/>\n",
       "</g>\n",
       "<!-- 139935301551104+ -->\n",
       "<g id=\"node2\" class=\"node\">\n",
       "<title>139935301551104+</title>\n",
       "<ellipse fill=\"none\" stroke=\"black\" cx=\"616\" cy=\"-152.5\" rx=\"27\" ry=\"18\"/>\n",
       "<text text-anchor=\"middle\" x=\"616\" y=\"-148.8\" font-family=\"Times,serif\" font-size=\"14.00\">+</text>\n",
       "</g>\n",
       "<!-- 139935301551104+&#45;&gt;139935301551104 -->\n",
       "<g id=\"edge1\" class=\"edge\">\n",
       "<title>139935301551104+&#45;&gt;139935301551104</title>\n",
       "<path fill=\"none\" stroke=\"black\" d=\"M643.4,-152.5C651.09,-152.5 659.74,-152.5 668.3,-152.5\"/>\n",
       "<polygon fill=\"black\" stroke=\"black\" points=\"668.03,-156 678.03,-152.5 668.03,-149 668.03,-156\"/>\n",
       "</g>\n",
       "<!-- 139935301203472 -->\n",
       "<g id=\"node3\" class=\"node\">\n",
       "<title>139935301203472</title>\n",
       "<polygon fill=\"none\" stroke=\"black\" points=\"461,-162.5 461,-208.5 536,-208.5 536,-162.5 461,-162.5\"/>\n",
       "<text text-anchor=\"middle\" x=\"498.5\" y=\"-193.3\" font-family=\"Times,serif\" font-size=\"14.00\">b: 6.881</text>\n",
       "<polyline fill=\"none\" stroke=\"black\" points=\"461,-185.5 536,-185.5\"/>\n",
       "<text text-anchor=\"middle\" x=\"498.5\" y=\"-170.3\" font-family=\"Times,serif\" font-size=\"14.00\">g:0.500</text>\n",
       "</g>\n",
       "<!-- 139935301203472&#45;&gt;139935301551104+ -->\n",
       "<g id=\"edge9\" class=\"edge\">\n",
       "<title>139935301203472&#45;&gt;139935301551104+</title>\n",
       "<path fill=\"none\" stroke=\"black\" d=\"M535.73,-175.15C549.96,-171.08 566.23,-166.43 580.31,-162.41\"/>\n",
       "<polygon fill=\"black\" stroke=\"black\" points=\"580.93,-165.59 589.58,-159.48 579.01,-158.86 580.93,-165.59\"/>\n",
       "</g>\n",
       "<!-- 139935301204048 -->\n",
       "<g id=\"node4\" class=\"node\">\n",
       "<title>139935301204048</title>\n",
       "<polygon fill=\"none\" stroke=\"black\" points=\"4.5,-65.5 4.5,-111.5 87.5,-111.5 87.5,-65.5 4.5,-65.5\"/>\n",
       "<text text-anchor=\"middle\" x=\"46\" y=\"-96.3\" font-family=\"Times,serif\" font-size=\"14.00\">x1: 2.000</text>\n",
       "<polyline fill=\"none\" stroke=\"black\" points=\"4.5,-88.5 87.5,-88.5\"/>\n",
       "<text text-anchor=\"middle\" x=\"46\" y=\"-73.3\" font-family=\"Times,serif\" font-size=\"14.00\">g:&#45;1.500</text>\n",
       "</g>\n",
       "<!-- 139934669157088* -->\n",
       "<g id=\"node9\" class=\"node\">\n",
       "<title>139934669157088*</title>\n",
       "<ellipse fill=\"none\" stroke=\"black\" cx=\"155\" cy=\"-88.5\" rx=\"27\" ry=\"18\"/>\n",
       "<text text-anchor=\"middle\" x=\"155\" y=\"-84.8\" font-family=\"Times,serif\" font-size=\"14.00\">*</text>\n",
       "</g>\n",
       "<!-- 139935301204048&#45;&gt;139934669157088* -->\n",
       "<g id=\"edge14\" class=\"edge\">\n",
       "<title>139935301204048&#45;&gt;139934669157088*</title>\n",
       "<path fill=\"none\" stroke=\"black\" d=\"M87.45,-88.5C97.15,-88.5 107.46,-88.5 116.99,-88.5\"/>\n",
       "<polygon fill=\"black\" stroke=\"black\" points=\"116.74,-92 126.74,-88.5 116.74,-85 116.74,-92\"/>\n",
       "</g>\n",
       "<!-- 139935301205584 -->\n",
       "<g id=\"node5\" class=\"node\">\n",
       "<title>139935301205584</title>\n",
       "<polygon fill=\"none\" stroke=\"black\" points=\"2.5,-195.5 2.5,-241.5 89.5,-241.5 89.5,-195.5 2.5,-195.5\"/>\n",
       "<text text-anchor=\"middle\" x=\"46\" y=\"-226.3\" font-family=\"Times,serif\" font-size=\"14.00\">w2: 1.000</text>\n",
       "<polyline fill=\"none\" stroke=\"black\" points=\"2.5,-218.5 89.5,-218.5\"/>\n",
       "<text text-anchor=\"middle\" x=\"46\" y=\"-203.3\" font-family=\"Times,serif\" font-size=\"14.00\">g:0.000</text>\n",
       "</g>\n",
       "<!-- 139935301551728* -->\n",
       "<g id=\"node7\" class=\"node\">\n",
       "<title>139935301551728*</title>\n",
       "<ellipse fill=\"none\" stroke=\"black\" cx=\"155\" cy=\"-153.5\" rx=\"27\" ry=\"18\"/>\n",
       "<text text-anchor=\"middle\" x=\"155\" y=\"-149.8\" font-family=\"Times,serif\" font-size=\"14.00\">*</text>\n",
       "</g>\n",
       "<!-- 139935301205584&#45;&gt;139935301551728* -->\n",
       "<g id=\"edge13\" class=\"edge\">\n",
       "<title>139935301205584&#45;&gt;139935301551728*</title>\n",
       "<path fill=\"none\" stroke=\"black\" d=\"M84.72,-195.58C97.92,-187.57 112.53,-178.69 124.91,-171.17\"/>\n",
       "<polygon fill=\"black\" stroke=\"black\" points=\"126.57,-173.65 133.3,-165.47 122.93,-167.67 126.57,-173.65\"/>\n",
       "</g>\n",
       "<!-- 139935301551728 -->\n",
       "<g id=\"node6\" class=\"node\">\n",
       "<title>139935301551728</title>\n",
       "<polygon fill=\"none\" stroke=\"black\" points=\"220.5,-130.5 220.5,-176.5 315.5,-176.5 315.5,-130.5 220.5,-130.5\"/>\n",
       "<text text-anchor=\"middle\" x=\"268\" y=\"-161.3\" font-family=\"Times,serif\" font-size=\"14.00\">wx2: 0.000</text>\n",
       "<polyline fill=\"none\" stroke=\"black\" points=\"220.5,-153.5 315.5,-153.5\"/>\n",
       "<text text-anchor=\"middle\" x=\"268\" y=\"-138.3\" font-family=\"Times,serif\" font-size=\"14.00\">g:0.500</text>\n",
       "</g>\n",
       "<!-- 139935301557152+ -->\n",
       "<g id=\"node13\" class=\"node\">\n",
       "<title>139935301557152+</title>\n",
       "<ellipse fill=\"none\" stroke=\"black\" cx=\"381\" cy=\"-120.5\" rx=\"27\" ry=\"18\"/>\n",
       "<text text-anchor=\"middle\" x=\"381\" y=\"-116.8\" font-family=\"Times,serif\" font-size=\"14.00\">+</text>\n",
       "</g>\n",
       "<!-- 139935301551728&#45;&gt;139935301557152+ -->\n",
       "<g id=\"edge6\" class=\"edge\">\n",
       "<title>139935301551728&#45;&gt;139935301557152+</title>\n",
       "<path fill=\"none\" stroke=\"black\" d=\"M315.43,-139.7C325.53,-136.69 336.04,-133.57 345.58,-130.73\"/>\n",
       "<polygon fill=\"black\" stroke=\"black\" points=\"346.27,-133.88 354.86,-127.68 344.28,-127.17 346.27,-133.88\"/>\n",
       "</g>\n",
       "<!-- 139935301551728*&#45;&gt;139935301551728 -->\n",
       "<g id=\"edge2\" class=\"edge\">\n",
       "<title>139935301551728*&#45;&gt;139935301551728</title>\n",
       "<path fill=\"none\" stroke=\"black\" d=\"M182.31,-153.5C190.69,-153.5 200.32,-153.5 210,-153.5\"/>\n",
       "<polygon fill=\"black\" stroke=\"black\" points=\"209.91,-157 219.91,-153.5 209.91,-150 209.91,-157\"/>\n",
       "</g>\n",
       "<!-- 139934669157088 -->\n",
       "<g id=\"node8\" class=\"node\">\n",
       "<title>139934669157088</title>\n",
       "<polygon fill=\"none\" stroke=\"black\" points=\"218,-65.5 218,-111.5 318,-111.5 318,-65.5 218,-65.5\"/>\n",
       "<text text-anchor=\"middle\" x=\"268\" y=\"-96.3\" font-family=\"Times,serif\" font-size=\"14.00\">wx1: &#45;6.000</text>\n",
       "<polyline fill=\"none\" stroke=\"black\" points=\"218,-88.5 318,-88.5\"/>\n",
       "<text text-anchor=\"middle\" x=\"268\" y=\"-73.3\" font-family=\"Times,serif\" font-size=\"14.00\">g:0.500</text>\n",
       "</g>\n",
       "<!-- 139934669157088&#45;&gt;139935301557152+ -->\n",
       "<g id=\"edge8\" class=\"edge\">\n",
       "<title>139934669157088&#45;&gt;139935301557152+</title>\n",
       "<path fill=\"none\" stroke=\"black\" d=\"M317.69,-102.54C326.94,-105.2 336.46,-107.95 345.17,-110.46\"/>\n",
       "<polygon fill=\"black\" stroke=\"black\" points=\"344.14,-114.09 354.71,-113.5 346.08,-107.37 344.14,-114.09\"/>\n",
       "</g>\n",
       "<!-- 139934669157088*&#45;&gt;139934669157088 -->\n",
       "<g id=\"edge3\" class=\"edge\">\n",
       "<title>139934669157088*&#45;&gt;139934669157088</title>\n",
       "<path fill=\"none\" stroke=\"black\" d=\"M182.31,-88.5C189.96,-88.5 198.66,-88.5 207.49,-88.5\"/>\n",
       "<polygon fill=\"black\" stroke=\"black\" points=\"207.26,-92 217.26,-88.5 207.26,-85 207.26,-92\"/>\n",
       "</g>\n",
       "<!-- 139935301203712 -->\n",
       "<g id=\"node10\" class=\"node\">\n",
       "<title>139935301203712</title>\n",
       "<polygon fill=\"none\" stroke=\"black\" points=\"4.5,-130.5 4.5,-176.5 87.5,-176.5 87.5,-130.5 4.5,-130.5\"/>\n",
       "<text text-anchor=\"middle\" x=\"46\" y=\"-161.3\" font-family=\"Times,serif\" font-size=\"14.00\">x2: 0.000</text>\n",
       "<polyline fill=\"none\" stroke=\"black\" points=\"4.5,-153.5 87.5,-153.5\"/>\n",
       "<text text-anchor=\"middle\" x=\"46\" y=\"-138.3\" font-family=\"Times,serif\" font-size=\"14.00\">g:0.500</text>\n",
       "</g>\n",
       "<!-- 139935301203712&#45;&gt;139935301551728* -->\n",
       "<g id=\"edge12\" class=\"edge\">\n",
       "<title>139935301203712&#45;&gt;139935301551728*</title>\n",
       "<path fill=\"none\" stroke=\"black\" d=\"M87.45,-153.5C97.15,-153.5 107.46,-153.5 116.99,-153.5\"/>\n",
       "<polygon fill=\"black\" stroke=\"black\" points=\"116.74,-157 126.74,-153.5 116.74,-150 116.74,-157\"/>\n",
       "</g>\n",
       "<!-- 139935301205824 -->\n",
       "<g id=\"node11\" class=\"node\">\n",
       "<title>139935301205824</title>\n",
       "<polygon fill=\"none\" stroke=\"black\" points=\"0,-0.5 0,-46.5 92,-46.5 92,-0.5 0,-0.5\"/>\n",
       "<text text-anchor=\"middle\" x=\"46\" y=\"-31.3\" font-family=\"Times,serif\" font-size=\"14.00\">w1: &#45;3.000</text>\n",
       "<polyline fill=\"none\" stroke=\"black\" points=\"0,-23.5 92,-23.5\"/>\n",
       "<text text-anchor=\"middle\" x=\"46\" y=\"-8.3\" font-family=\"Times,serif\" font-size=\"14.00\">g:1.000</text>\n",
       "</g>\n",
       "<!-- 139935301205824&#45;&gt;139934669157088* -->\n",
       "<g id=\"edge7\" class=\"edge\">\n",
       "<title>139935301205824&#45;&gt;139934669157088*</title>\n",
       "<path fill=\"none\" stroke=\"black\" d=\"M84.72,-46.42C97.92,-54.43 112.53,-63.31 124.91,-70.83\"/>\n",
       "<polygon fill=\"black\" stroke=\"black\" points=\"122.93,-74.33 133.3,-76.53 126.57,-68.35 122.93,-74.33\"/>\n",
       "</g>\n",
       "<!-- 139935301557152 -->\n",
       "<g id=\"node12\" class=\"node\">\n",
       "<title>139935301557152</title>\n",
       "<polygon fill=\"none\" stroke=\"black\" points=\"444,-97.5 444,-143.5 553,-143.5 553,-97.5 444,-97.5\"/>\n",
       "<text text-anchor=\"middle\" x=\"498.5\" y=\"-128.3\" font-family=\"Times,serif\" font-size=\"14.00\">wx12: &#45;6.000</text>\n",
       "<polyline fill=\"none\" stroke=\"black\" points=\"444,-120.5 553,-120.5\"/>\n",
       "<text text-anchor=\"middle\" x=\"498.5\" y=\"-105.3\" font-family=\"Times,serif\" font-size=\"14.00\">g:0.500</text>\n",
       "</g>\n",
       "<!-- 139935301557152&#45;&gt;139935301551104+ -->\n",
       "<g id=\"edge11\" class=\"edge\">\n",
       "<title>139935301557152&#45;&gt;139935301551104+</title>\n",
       "<path fill=\"none\" stroke=\"black\" d=\"M552.85,-135.28C562.16,-137.86 571.63,-140.48 580.27,-142.88\"/>\n",
       "<polygon fill=\"black\" stroke=\"black\" points=\"579.13,-146.47 589.7,-145.77 581,-139.72 579.13,-146.47\"/>\n",
       "</g>\n",
       "<!-- 139935301557152+&#45;&gt;139935301557152 -->\n",
       "<g id=\"edge4\" class=\"edge\">\n",
       "<title>139935301557152+&#45;&gt;139935301557152</title>\n",
       "<path fill=\"none\" stroke=\"black\" d=\"M408.5,-120.5C416.07,-120.5 424.68,-120.5 433.48,-120.5\"/>\n",
       "<polygon fill=\"black\" stroke=\"black\" points=\"433.25,-124 443.25,-120.5 433.25,-117 433.25,-124\"/>\n",
       "</g>\n",
       "<!-- 139935301550576 -->\n",
       "<g id=\"node14\" class=\"node\">\n",
       "<title>139935301550576</title>\n",
       "<polygon fill=\"none\" stroke=\"black\" points=\"889.69,-129.5 889.69,-175.5 963.69,-175.5 963.69,-129.5 889.69,-129.5\"/>\n",
       "<text text-anchor=\"middle\" x=\"926.69\" y=\"-160.3\" font-family=\"Times,serif\" font-size=\"14.00\">o: 0.707</text>\n",
       "<polyline fill=\"none\" stroke=\"black\" points=\"889.69,-152.5 963.69,-152.5\"/>\n",
       "<text text-anchor=\"middle\" x=\"926.69\" y=\"-137.3\" font-family=\"Times,serif\" font-size=\"14.00\">g:1.000</text>\n",
       "</g>\n",
       "<!-- 139935301550576tanh&#45;&gt;139935301550576 -->\n",
       "<g id=\"edge5\" class=\"edge\">\n",
       "<title>139935301550576tanh&#45;&gt;139935301550576</title>\n",
       "<path fill=\"none\" stroke=\"black\" d=\"M853.98,-152.5C861.88,-152.5 870.53,-152.5 879.01,-152.5\"/>\n",
       "<polygon fill=\"black\" stroke=\"black\" points=\"878.98,-156 888.98,-152.5 878.98,-149 878.98,-156\"/>\n",
       "</g>\n",
       "</g>\n",
       "</svg>\n"
      ],
      "text/plain": [
       "<graphviz.graphs.Digraph at 0x7f4539f0ed10>"
      ]
     },
     "execution_count": 85,
     "metadata": {},
     "output_type": "execute_result"
    }
   ],
   "source": [
    "draw_dot(o)"
   ]
  },
  {
   "cell_type": "code",
   "execution_count": 34,
   "id": "9a9c58ac-addd-4e2e-87d9-6404274c9644",
   "metadata": {},
   "outputs": [
    {
     "data": {
      "text/plain": [
       "0.6347395899824584"
      ]
     },
     "execution_count": 34,
     "metadata": {},
     "output_type": "execute_result"
    }
   ],
   "source": [
    "# manual backprop\n",
    "o.grad = 1.0\n",
    "# we want now do/dn, o = tanh(n)\n",
    "# tanh(x)' = 1 - tanh^2(x) = 1 - o^2\n",
    "n.grad = 1 - o.data**2\n",
    "n.grad"
   ]
  },
  {
   "cell_type": "code",
   "execution_count": 35,
   "id": "3340e3ef-fd25-4ebe-a317-4ab52b73601c",
   "metadata": {
    "tags": []
   },
   "outputs": [],
   "source": [
    "# we know that the plus operation just flows the grad backward\n",
    "wx12.grad = n.grad\n",
    "b.grad = n.grad"
   ]
  },
  {
   "cell_type": "code",
   "execution_count": 36,
   "id": "950a603b-d6b6-40ee-9195-3a0274f5eb25",
   "metadata": {
    "tags": []
   },
   "outputs": [],
   "source": [
    "# again coming backwards we have another plus node, it will flow the grad backward\n",
    "wx1.grad = wx12.grad\n",
    "wx2.grad = wx12.grad"
   ]
  },
  {
   "cell_type": "code",
   "execution_count": 37,
   "id": "9e72ba6c-97b6-4ef6-b9c3-03b5e9c1f10f",
   "metadata": {
    "tags": []
   },
   "outputs": [],
   "source": [
    "# for the mul node, the local chain rule says:\n",
    "x1.grad = w1.data * wx1.grad\n",
    "w1.grad = x1.data * wx1.grad\n",
    "\n",
    "x2.grad = w2.data * wx2.grad\n",
    "w2.grad = x2.data * wx2.grad"
   ]
  },
  {
   "cell_type": "code",
   "execution_count": 78,
   "id": "2d90d18f-ce47-4e12-b9f8-cca039f2cd49",
   "metadata": {
    "tags": []
   },
   "outputs": [],
   "source": [
    "o.grad = 1.0\n",
    "o._backward()"
   ]
  },
  {
   "cell_type": "code",
   "execution_count": 80,
   "id": "ed6d5473-fac4-4ce6-924c-39437e010288",
   "metadata": {
    "tags": []
   },
   "outputs": [],
   "source": [
    "n._backward()"
   ]
  },
  {
   "cell_type": "code",
   "execution_count": 81,
   "id": "986b133c-6291-4789-aee3-31412d939d27",
   "metadata": {
    "tags": []
   },
   "outputs": [],
   "source": [
    "wx12._backward()"
   ]
  },
  {
   "cell_type": "code",
   "execution_count": 82,
   "id": "6696a714-d8a2-4ac8-b936-319519873858",
   "metadata": {
    "tags": []
   },
   "outputs": [],
   "source": [
    "b._backward()"
   ]
  },
  {
   "cell_type": "code",
   "execution_count": 84,
   "id": "cbd82c8a-6075-4ea0-aae3-f52b216f097e",
   "metadata": {
    "tags": []
   },
   "outputs": [],
   "source": [
    "wx1._backward()\n",
    "wx2._backward()"
   ]
  },
  {
   "cell_type": "markdown",
   "id": "32457993-1612-4e36-84af-0b24a101630d",
   "metadata": {},
   "source": [
    "Now we have to sort our computatinoal graph (topological sort), to have the dependencies in place, so that the nodes flow from left to right, to be able to backprop from last node to the root node."
   ]
  },
  {
   "cell_type": "code",
   "execution_count": 86,
   "id": "95618691-ab49-4575-b882-3a2fc484f0c7",
   "metadata": {
    "tags": []
   },
   "outputs": [
    {
     "data": {
      "text/plain": [
       "[Value(data=6.8813, label=b),\n",
       " Value(data=-3.0, label=w1),\n",
       " Value(data=2.0, label=x1),\n",
       " Value(data=-6.0, label=wx1),\n",
       " Value(data=0.0, label=x2),\n",
       " Value(data=1.0, label=w2),\n",
       " Value(data=0.0, label=wx2),\n",
       " Value(data=-6.0, label=wx12),\n",
       " Value(data=0.8813000000000004, label=n),\n",
       " Value(data=0.7070699857622339, label=o)]"
      ]
     },
     "execution_count": 86,
     "metadata": {},
     "output_type": "execute_result"
    }
   ],
   "source": [
    "topo = []\n",
    "visited = set()\n",
    "def build_topo(v):\n",
    "    if v not in visited:\n",
    "        visited.add(v)\n",
    "        for child in v._prev:\n",
    "            build_topo(child)\n",
    "        topo.append(v)\n",
    "build_topo(o)\n",
    "topo"
   ]
  },
  {
   "cell_type": "code",
   "execution_count": 88,
   "id": "82856400-cc27-444d-a3bf-a43fd6a699e6",
   "metadata": {
    "tags": []
   },
   "outputs": [],
   "source": [
    "# set all the grads to zero up there, then do it automatically the backrpop in reverse topological order\n",
    "o.grad = 1.0\n",
    "\n",
    "topo = []\n",
    "visited = set()\n",
    "def build_topo(v):\n",
    "    if v not in visited:\n",
    "        visited.add(v)\n",
    "        for child in v._prev:\n",
    "            build_topo(child)\n",
    "        topo.append(v)\n",
    "build_topo(o)\n",
    "\n",
    "for node in reversed(topo):\n",
    "    node._backward()"
   ]
  },
  {
   "cell_type": "code",
   "execution_count": 96,
   "id": "470d23b2-c7a6-4121-bb74-c106f16462c7",
   "metadata": {
    "tags": []
   },
   "outputs": [
    {
     "data": {
      "image/svg+xml": [
       "<?xml version=\"1.0\" encoding=\"UTF-8\" standalone=\"no\"?>\n",
       "<!DOCTYPE svg PUBLIC \"-//W3C//DTD SVG 1.1//EN\"\n",
       " \"http://www.w3.org/Graphics/SVG/1.1/DTD/svg11.dtd\">\n",
       "<!-- Generated by graphviz version 8.0.3 (0)\n",
       " -->\n",
       "<!-- Pages: 1 -->\n",
       "<svg width=\"972pt\" height=\"250pt\"\n",
       " viewBox=\"0.00 0.00 971.69 250.00\" xmlns=\"http://www.w3.org/2000/svg\" xmlns:xlink=\"http://www.w3.org/1999/xlink\">\n",
       "<g id=\"graph0\" class=\"graph\" transform=\"scale(1 1) rotate(0) translate(4 246)\">\n",
       "<polygon fill=\"white\" stroke=\"none\" points=\"-4,4 -4,-246 967.69,-246 967.69,4 -4,4\"/>\n",
       "<!-- 139934591215136 -->\n",
       "<g id=\"node1\" class=\"node\">\n",
       "<title>139934591215136</title>\n",
       "<polygon fill=\"none\" stroke=\"black\" points=\"889.69,-129.5 889.69,-175.5 963.69,-175.5 963.69,-129.5 889.69,-129.5\"/>\n",
       "<text text-anchor=\"middle\" x=\"926.69\" y=\"-160.3\" font-family=\"Times,serif\" font-size=\"14.00\">o: 0.707</text>\n",
       "<polyline fill=\"none\" stroke=\"black\" points=\"889.69,-152.5 963.69,-152.5\"/>\n",
       "<text text-anchor=\"middle\" x=\"926.69\" y=\"-137.3\" font-family=\"Times,serif\" font-size=\"14.00\">g:1.000</text>\n",
       "</g>\n",
       "<!-- 139934591215136tanh -->\n",
       "<g id=\"node2\" class=\"node\">\n",
       "<title>139934591215136tanh</title>\n",
       "<ellipse fill=\"none\" stroke=\"black\" cx=\"821.85\" cy=\"-152.5\" rx=\"31.7\" ry=\"18\"/>\n",
       "<text text-anchor=\"middle\" x=\"821.85\" y=\"-148.8\" font-family=\"Times,serif\" font-size=\"14.00\">tanh</text>\n",
       "</g>\n",
       "<!-- 139934591215136tanh&#45;&gt;139934591215136 -->\n",
       "<g id=\"edge1\" class=\"edge\">\n",
       "<title>139934591215136tanh&#45;&gt;139934591215136</title>\n",
       "<path fill=\"none\" stroke=\"black\" d=\"M853.98,-152.5C861.88,-152.5 870.53,-152.5 879.01,-152.5\"/>\n",
       "<polygon fill=\"black\" stroke=\"black\" points=\"878.98,-156 888.98,-152.5 878.98,-149 878.98,-156\"/>\n",
       "</g>\n",
       "<!-- 139935301550192 -->\n",
       "<g id=\"node3\" class=\"node\">\n",
       "<title>139935301550192</title>\n",
       "<polygon fill=\"none\" stroke=\"black\" points=\"461,-162.5 461,-208.5 536,-208.5 536,-162.5 461,-162.5\"/>\n",
       "<text text-anchor=\"middle\" x=\"498.5\" y=\"-193.3\" font-family=\"Times,serif\" font-size=\"14.00\">b: 6.881</text>\n",
       "<polyline fill=\"none\" stroke=\"black\" points=\"461,-185.5 536,-185.5\"/>\n",
       "<text text-anchor=\"middle\" x=\"498.5\" y=\"-170.3\" font-family=\"Times,serif\" font-size=\"14.00\">g:0.500</text>\n",
       "</g>\n",
       "<!-- 139934591216912+ -->\n",
       "<g id=\"node6\" class=\"node\">\n",
       "<title>139934591216912+</title>\n",
       "<ellipse fill=\"none\" stroke=\"black\" cx=\"616\" cy=\"-152.5\" rx=\"27\" ry=\"18\"/>\n",
       "<text text-anchor=\"middle\" x=\"616\" y=\"-148.8\" font-family=\"Times,serif\" font-size=\"14.00\">+</text>\n",
       "</g>\n",
       "<!-- 139935301550192&#45;&gt;139934591216912+ -->\n",
       "<g id=\"edge6\" class=\"edge\">\n",
       "<title>139935301550192&#45;&gt;139934591216912+</title>\n",
       "<path fill=\"none\" stroke=\"black\" d=\"M535.73,-175.15C549.96,-171.08 566.23,-166.43 580.31,-162.41\"/>\n",
       "<polygon fill=\"black\" stroke=\"black\" points=\"580.93,-165.59 589.58,-159.48 579.01,-158.86 580.93,-165.59\"/>\n",
       "</g>\n",
       "<!-- 139935301560560 -->\n",
       "<g id=\"node4\" class=\"node\">\n",
       "<title>139935301560560</title>\n",
       "<polygon fill=\"none\" stroke=\"black\" points=\"4.5,-195.5 4.5,-241.5 87.5,-241.5 87.5,-195.5 4.5,-195.5\"/>\n",
       "<text text-anchor=\"middle\" x=\"46\" y=\"-226.3\" font-family=\"Times,serif\" font-size=\"14.00\">x2: 0.000</text>\n",
       "<polyline fill=\"none\" stroke=\"black\" points=\"4.5,-218.5 87.5,-218.5\"/>\n",
       "<text text-anchor=\"middle\" x=\"46\" y=\"-203.3\" font-family=\"Times,serif\" font-size=\"14.00\">g:0.500</text>\n",
       "</g>\n",
       "<!-- 139934591217584* -->\n",
       "<g id=\"node12\" class=\"node\">\n",
       "<title>139934591217584*</title>\n",
       "<ellipse fill=\"none\" stroke=\"black\" cx=\"155\" cy=\"-153.5\" rx=\"27\" ry=\"18\"/>\n",
       "<text text-anchor=\"middle\" x=\"155\" y=\"-149.8\" font-family=\"Times,serif\" font-size=\"14.00\">*</text>\n",
       "</g>\n",
       "<!-- 139935301560560&#45;&gt;139934591217584* -->\n",
       "<g id=\"edge7\" class=\"edge\">\n",
       "<title>139935301560560&#45;&gt;139934591217584*</title>\n",
       "<path fill=\"none\" stroke=\"black\" d=\"M84.72,-195.58C97.92,-187.57 112.53,-178.69 124.91,-171.17\"/>\n",
       "<polygon fill=\"black\" stroke=\"black\" points=\"126.57,-173.65 133.3,-165.47 122.93,-167.67 126.57,-173.65\"/>\n",
       "</g>\n",
       "<!-- 139934591216912 -->\n",
       "<g id=\"node5\" class=\"node\">\n",
       "<title>139934591216912</title>\n",
       "<polygon fill=\"none\" stroke=\"black\" points=\"679,-129.5 679,-175.5 754,-175.5 754,-129.5 679,-129.5\"/>\n",
       "<text text-anchor=\"middle\" x=\"716.5\" y=\"-160.3\" font-family=\"Times,serif\" font-size=\"14.00\">n: 0.881</text>\n",
       "<polyline fill=\"none\" stroke=\"black\" points=\"679,-152.5 754,-152.5\"/>\n",
       "<text text-anchor=\"middle\" x=\"716.5\" y=\"-137.3\" font-family=\"Times,serif\" font-size=\"14.00\">g:0.500</text>\n",
       "</g>\n",
       "<!-- 139934591216912&#45;&gt;139934591215136tanh -->\n",
       "<g id=\"edge9\" class=\"edge\">\n",
       "<title>139934591216912&#45;&gt;139934591215136tanh</title>\n",
       "<path fill=\"none\" stroke=\"black\" d=\"M753.94,-152.5C762.01,-152.5 770.62,-152.5 778.89,-152.5\"/>\n",
       "<polygon fill=\"black\" stroke=\"black\" points=\"778.87,-156 788.87,-152.5 778.87,-149 778.87,-156\"/>\n",
       "</g>\n",
       "<!-- 139934591216912+&#45;&gt;139934591216912 -->\n",
       "<g id=\"edge2\" class=\"edge\">\n",
       "<title>139934591216912+&#45;&gt;139934591216912</title>\n",
       "<path fill=\"none\" stroke=\"black\" d=\"M643.4,-152.5C651.09,-152.5 659.74,-152.5 668.3,-152.5\"/>\n",
       "<polygon fill=\"black\" stroke=\"black\" points=\"668.03,-156 678.03,-152.5 668.03,-149 668.03,-156\"/>\n",
       "</g>\n",
       "<!-- 139934590658992 -->\n",
       "<g id=\"node7\" class=\"node\">\n",
       "<title>139934590658992</title>\n",
       "<polygon fill=\"none\" stroke=\"black\" points=\"0,-65.5 0,-111.5 92,-111.5 92,-65.5 0,-65.5\"/>\n",
       "<text text-anchor=\"middle\" x=\"46\" y=\"-96.3\" font-family=\"Times,serif\" font-size=\"14.00\">w1: &#45;3.000</text>\n",
       "<polyline fill=\"none\" stroke=\"black\" points=\"0,-88.5 92,-88.5\"/>\n",
       "<text text-anchor=\"middle\" x=\"46\" y=\"-73.3\" font-family=\"Times,serif\" font-size=\"14.00\">g:1.000</text>\n",
       "</g>\n",
       "<!-- 139934591213024* -->\n",
       "<g id=\"node15\" class=\"node\">\n",
       "<title>139934591213024*</title>\n",
       "<ellipse fill=\"none\" stroke=\"black\" cx=\"155\" cy=\"-88.5\" rx=\"27\" ry=\"18\"/>\n",
       "<text text-anchor=\"middle\" x=\"155\" y=\"-84.8\" font-family=\"Times,serif\" font-size=\"14.00\">*</text>\n",
       "</g>\n",
       "<!-- 139934590658992&#45;&gt;139934591213024* -->\n",
       "<g id=\"edge10\" class=\"edge\">\n",
       "<title>139934590658992&#45;&gt;139934591213024*</title>\n",
       "<path fill=\"none\" stroke=\"black\" d=\"M91.76,-88.5C100.09,-88.5 108.71,-88.5 116.78,-88.5\"/>\n",
       "<polygon fill=\"black\" stroke=\"black\" points=\"116.74,-92 126.74,-88.5 116.74,-85 116.74,-92\"/>\n",
       "</g>\n",
       "<!-- 139934591214416 -->\n",
       "<g id=\"node8\" class=\"node\">\n",
       "<title>139934591214416</title>\n",
       "<polygon fill=\"none\" stroke=\"black\" points=\"444,-97.5 444,-143.5 553,-143.5 553,-97.5 444,-97.5\"/>\n",
       "<text text-anchor=\"middle\" x=\"498.5\" y=\"-128.3\" font-family=\"Times,serif\" font-size=\"14.00\">wx12: &#45;6.000</text>\n",
       "<polyline fill=\"none\" stroke=\"black\" points=\"444,-120.5 553,-120.5\"/>\n",
       "<text text-anchor=\"middle\" x=\"498.5\" y=\"-105.3\" font-family=\"Times,serif\" font-size=\"14.00\">g:0.500</text>\n",
       "</g>\n",
       "<!-- 139934591214416&#45;&gt;139934591216912+ -->\n",
       "<g id=\"edge12\" class=\"edge\">\n",
       "<title>139934591214416&#45;&gt;139934591216912+</title>\n",
       "<path fill=\"none\" stroke=\"black\" d=\"M552.85,-135.28C562.16,-137.86 571.63,-140.48 580.27,-142.88\"/>\n",
       "<polygon fill=\"black\" stroke=\"black\" points=\"579.13,-146.47 589.7,-145.77 581,-139.72 579.13,-146.47\"/>\n",
       "</g>\n",
       "<!-- 139934591214416+ -->\n",
       "<g id=\"node9\" class=\"node\">\n",
       "<title>139934591214416+</title>\n",
       "<ellipse fill=\"none\" stroke=\"black\" cx=\"381\" cy=\"-120.5\" rx=\"27\" ry=\"18\"/>\n",
       "<text text-anchor=\"middle\" x=\"381\" y=\"-116.8\" font-family=\"Times,serif\" font-size=\"14.00\">+</text>\n",
       "</g>\n",
       "<!-- 139934591214416+&#45;&gt;139934591214416 -->\n",
       "<g id=\"edge3\" class=\"edge\">\n",
       "<title>139934591214416+&#45;&gt;139934591214416</title>\n",
       "<path fill=\"none\" stroke=\"black\" d=\"M408.5,-120.5C416.07,-120.5 424.68,-120.5 433.48,-120.5\"/>\n",
       "<polygon fill=\"black\" stroke=\"black\" points=\"433.25,-124 443.25,-120.5 433.25,-117 433.25,-124\"/>\n",
       "</g>\n",
       "<!-- 139935301551440 -->\n",
       "<g id=\"node10\" class=\"node\">\n",
       "<title>139935301551440</title>\n",
       "<polygon fill=\"none\" stroke=\"black\" points=\"4.5,-0.5 4.5,-46.5 87.5,-46.5 87.5,-0.5 4.5,-0.5\"/>\n",
       "<text text-anchor=\"middle\" x=\"46\" y=\"-31.3\" font-family=\"Times,serif\" font-size=\"14.00\">x1: 2.000</text>\n",
       "<polyline fill=\"none\" stroke=\"black\" points=\"4.5,-23.5 87.5,-23.5\"/>\n",
       "<text text-anchor=\"middle\" x=\"46\" y=\"-8.3\" font-family=\"Times,serif\" font-size=\"14.00\">g:&#45;1.500</text>\n",
       "</g>\n",
       "<!-- 139935301551440&#45;&gt;139934591213024* -->\n",
       "<g id=\"edge14\" class=\"edge\">\n",
       "<title>139935301551440&#45;&gt;139934591213024*</title>\n",
       "<path fill=\"none\" stroke=\"black\" d=\"M84.72,-46.42C97.92,-54.43 112.53,-63.31 124.91,-70.83\"/>\n",
       "<polygon fill=\"black\" stroke=\"black\" points=\"122.93,-74.33 133.3,-76.53 126.57,-68.35 122.93,-74.33\"/>\n",
       "</g>\n",
       "<!-- 139934591217584 -->\n",
       "<g id=\"node11\" class=\"node\">\n",
       "<title>139934591217584</title>\n",
       "<polygon fill=\"none\" stroke=\"black\" points=\"220.5,-130.5 220.5,-176.5 315.5,-176.5 315.5,-130.5 220.5,-130.5\"/>\n",
       "<text text-anchor=\"middle\" x=\"268\" y=\"-161.3\" font-family=\"Times,serif\" font-size=\"14.00\">wx2: 0.000</text>\n",
       "<polyline fill=\"none\" stroke=\"black\" points=\"220.5,-153.5 315.5,-153.5\"/>\n",
       "<text text-anchor=\"middle\" x=\"268\" y=\"-138.3\" font-family=\"Times,serif\" font-size=\"14.00\">g:0.500</text>\n",
       "</g>\n",
       "<!-- 139934591217584&#45;&gt;139934591214416+ -->\n",
       "<g id=\"edge11\" class=\"edge\">\n",
       "<title>139934591217584&#45;&gt;139934591214416+</title>\n",
       "<path fill=\"none\" stroke=\"black\" d=\"M315.43,-139.7C325.53,-136.69 336.04,-133.57 345.58,-130.73\"/>\n",
       "<polygon fill=\"black\" stroke=\"black\" points=\"346.27,-133.88 354.86,-127.68 344.28,-127.17 346.27,-133.88\"/>\n",
       "</g>\n",
       "<!-- 139934591217584*&#45;&gt;139934591217584 -->\n",
       "<g id=\"edge4\" class=\"edge\">\n",
       "<title>139934591217584*&#45;&gt;139934591217584</title>\n",
       "<path fill=\"none\" stroke=\"black\" d=\"M182.31,-153.5C190.69,-153.5 200.32,-153.5 210,-153.5\"/>\n",
       "<polygon fill=\"black\" stroke=\"black\" points=\"209.91,-157 219.91,-153.5 209.91,-150 209.91,-157\"/>\n",
       "</g>\n",
       "<!-- 139935301564352 -->\n",
       "<g id=\"node13\" class=\"node\">\n",
       "<title>139935301564352</title>\n",
       "<polygon fill=\"none\" stroke=\"black\" points=\"2.5,-130.5 2.5,-176.5 89.5,-176.5 89.5,-130.5 2.5,-130.5\"/>\n",
       "<text text-anchor=\"middle\" x=\"46\" y=\"-161.3\" font-family=\"Times,serif\" font-size=\"14.00\">w2: 1.000</text>\n",
       "<polyline fill=\"none\" stroke=\"black\" points=\"2.5,-153.5 89.5,-153.5\"/>\n",
       "<text text-anchor=\"middle\" x=\"46\" y=\"-138.3\" font-family=\"Times,serif\" font-size=\"14.00\">g:0.000</text>\n",
       "</g>\n",
       "<!-- 139935301564352&#45;&gt;139934591217584* -->\n",
       "<g id=\"edge8\" class=\"edge\">\n",
       "<title>139935301564352&#45;&gt;139934591217584*</title>\n",
       "<path fill=\"none\" stroke=\"black\" d=\"M89.29,-153.5C98.41,-153.5 107.98,-153.5 116.88,-153.5\"/>\n",
       "<polygon fill=\"black\" stroke=\"black\" points=\"116.72,-157 126.72,-153.5 116.72,-150 116.72,-157\"/>\n",
       "</g>\n",
       "<!-- 139934591213024 -->\n",
       "<g id=\"node14\" class=\"node\">\n",
       "<title>139934591213024</title>\n",
       "<polygon fill=\"none\" stroke=\"black\" points=\"218,-65.5 218,-111.5 318,-111.5 318,-65.5 218,-65.5\"/>\n",
       "<text text-anchor=\"middle\" x=\"268\" y=\"-96.3\" font-family=\"Times,serif\" font-size=\"14.00\">wx1: &#45;6.000</text>\n",
       "<polyline fill=\"none\" stroke=\"black\" points=\"218,-88.5 318,-88.5\"/>\n",
       "<text text-anchor=\"middle\" x=\"268\" y=\"-73.3\" font-family=\"Times,serif\" font-size=\"14.00\">g:0.500</text>\n",
       "</g>\n",
       "<!-- 139934591213024&#45;&gt;139934591214416+ -->\n",
       "<g id=\"edge13\" class=\"edge\">\n",
       "<title>139934591213024&#45;&gt;139934591214416+</title>\n",
       "<path fill=\"none\" stroke=\"black\" d=\"M317.69,-102.54C326.94,-105.2 336.46,-107.95 345.17,-110.46\"/>\n",
       "<polygon fill=\"black\" stroke=\"black\" points=\"344.14,-114.09 354.71,-113.5 346.08,-107.37 344.14,-114.09\"/>\n",
       "</g>\n",
       "<!-- 139934591213024*&#45;&gt;139934591213024 -->\n",
       "<g id=\"edge5\" class=\"edge\">\n",
       "<title>139934591213024*&#45;&gt;139934591213024</title>\n",
       "<path fill=\"none\" stroke=\"black\" d=\"M182.31,-88.5C189.96,-88.5 198.66,-88.5 207.49,-88.5\"/>\n",
       "<polygon fill=\"black\" stroke=\"black\" points=\"207.26,-92 217.26,-88.5 207.26,-85 207.26,-92\"/>\n",
       "</g>\n",
       "</g>\n",
       "</svg>\n"
      ],
      "text/plain": [
       "<graphviz.graphs.Digraph at 0x7f4539f0dfc0>"
      ]
     },
     "execution_count": 96,
     "metadata": {},
     "output_type": "execute_result"
    }
   ],
   "source": [
    "draw_dot(o)"
   ]
  },
  {
   "cell_type": "code",
   "execution_count": 95,
   "id": "cb8f6066-411e-4c81-b2e1-13f9f6f88e4e",
   "metadata": {
    "tags": []
   },
   "outputs": [],
   "source": [
    "# after adding the backward method to Value class, we can do:\n",
    "o.backward()"
   ]
  },
  {
   "cell_type": "code",
   "execution_count": 156,
   "id": "60fe3f68-f5c8-4572-9b9f-6beb9b02638b",
   "metadata": {
    "tags": []
   },
   "outputs": [],
   "source": [
    "class Neuron:\n",
    "    def __init__(self, nin):\n",
    "        # nin: number of inputs to the neuron\n",
    "        self.w = [Value(np.random.uniform(-1, 1)) for _ in range(nin)]\n",
    "        self.b = Value(np.random.uniform(-1, 1))\n",
    "    \n",
    "    # Neuron(x)\n",
    "    def __call__(self, x):\n",
    "        # forward pass of the neuron\n",
    "        # w * x + b\n",
    "        act = sum(wi*xi for wi, xi in zip(self.w, x)) + self.b\n",
    "        out = act.tanh()\n",
    "        return out\n",
    "    \n",
    "    def parameters(self):\n",
    "        return self.w + [self.b]"
   ]
  },
  {
   "cell_type": "code",
   "execution_count": 157,
   "id": "90dc6399-a6e9-4808-a07c-626389ac836a",
   "metadata": {
    "tags": []
   },
   "outputs": [
    {
     "data": {
      "text/plain": [
       "Value(data=-0.16195826725315635, label=)"
      ]
     },
     "execution_count": 157,
     "metadata": {},
     "output_type": "execute_result"
    }
   ],
   "source": [
    "x = [2.0, 3.0]\n",
    "n = Neuron(2)\n",
    "n(x)"
   ]
  },
  {
   "cell_type": "code",
   "execution_count": 158,
   "id": "1fe5623d-a29a-4baa-a582-5ae38e222e29",
   "metadata": {
    "tags": []
   },
   "outputs": [],
   "source": [
    "class Layer:\n",
    "    def __init__(self, nin, nout):\n",
    "        # nin: number of inputs to the neuron as in Neuron class\n",
    "        # nout: how many neurons in a layer\n",
    "        self.neurons = [Neuron(nin) for _ in range(nout)]\n",
    "    \n",
    "    def __call__(self, x):\n",
    "        outs = [n(x) for n in self.neurons]\n",
    "        return outs[0] if len(outs) == 1 else outs\n",
    "    \n",
    "    def parameters(self):\n",
    "        return [p for n in self.neurons for p in n.parameters()]"
   ]
  },
  {
   "cell_type": "code",
   "execution_count": 159,
   "id": "5980a235-49af-4464-953e-3ed5fe276106",
   "metadata": {
    "tags": []
   },
   "outputs": [
    {
     "data": {
      "text/plain": [
       "[Value(data=-0.17051476214336575, label=),\n",
       " Value(data=-0.9768495397231712, label=),\n",
       " Value(data=0.9864254805917516, label=),\n",
       " Value(data=-0.9874980853608422, label=),\n",
       " Value(data=0.6236358614430725, label=)]"
      ]
     },
     "execution_count": 159,
     "metadata": {},
     "output_type": "execute_result"
    }
   ],
   "source": [
    "x = [2.0, 3.0]\n",
    "# 5 neurons, each gets 2 inputs\n",
    "n = Layer(2, 5)\n",
    "n(x)"
   ]
  },
  {
   "cell_type": "code",
   "execution_count": 169,
   "id": "5d6a1775-c6f8-466e-9a42-2bbc418fd373",
   "metadata": {
    "tags": []
   },
   "outputs": [],
   "source": [
    "# multi-layer perceptron\n",
    "class MLP:\n",
    "    def __init__(self, nin, nouts):\n",
    "        sz = [nin] + nouts\n",
    "        self.layers = [Layer(sz[i], sz[i+1]) for i in range(len(nouts))]\n",
    "        \n",
    "    def __call__(self, x):\n",
    "        for layer in self.layers:\n",
    "            x = layer(x)\n",
    "        return x\n",
    "    \n",
    "    def parameters(self):\n",
    "        return [p for l in self.layers for p in l.parameters()]"
   ]
  },
  {
   "cell_type": "code",
   "execution_count": 170,
   "id": "71174e1a-d47e-4ee2-98d0-3d3bb2097704",
   "metadata": {
    "tags": []
   },
   "outputs": [
    {
     "data": {
      "text/plain": [
       "Value(data=0.7596112291147595, label=)"
      ]
     },
     "execution_count": 170,
     "metadata": {},
     "output_type": "execute_result"
    }
   ],
   "source": [
    "x = [2.0, 3.0, -1.0]\n",
    "# 3 inputs, 2 layers of of 4 and 1 output\n",
    "n = MLP(3, [4, 4, 1])\n",
    "n(x)"
   ]
  },
  {
   "cell_type": "code",
   "execution_count": 171,
   "id": "eec6207a-1297-400d-917c-eb244c1ab499",
   "metadata": {
    "tags": []
   },
   "outputs": [],
   "source": [
    "# an example with four data points\n",
    "xs = [\n",
    "    [2.0, 3.0, -1.0],\n",
    "    [3.0, -1.0, 0.5],\n",
    "    [0.5, 1.0, 1.0],\n",
    "    [1.0, 1.0, -1.0]\n",
    "]\n",
    "\n",
    "# targets, a binary classifier\n",
    "ys = [1.0, -1.0, -1.0, 1.0]"
   ]
  },
  {
   "cell_type": "code",
   "execution_count": 188,
   "id": "bb344c1d-4661-426b-addb-003c3391764f",
   "metadata": {
    "tags": []
   },
   "outputs": [
    {
     "data": {
      "text/plain": [
       "[Value(data=0.7556356844743229, label=),\n",
       " Value(data=0.8112703783704742, label=),\n",
       " Value(data=0.8522988823523601, label=),\n",
       " Value(data=0.5473332343587524, label=)]"
      ]
     },
     "execution_count": 188,
     "metadata": {},
     "output_type": "execute_result"
    }
   ],
   "source": [
    "ypred = [n(x) for x in xs]\n",
    "ypred"
   ]
  },
  {
   "cell_type": "code",
   "execution_count": 189,
   "id": "be23d384-f815-412e-be75-bc8272df530f",
   "metadata": {
    "tags": []
   },
   "outputs": [
    {
     "data": {
      "text/plain": [
       "[Value(data=0.059713918702332655, label=),\n",
       " Value(data=3.280700383562321, label=),\n",
       " Value(data=3.431011149563802, label=),\n",
       " Value(data=0.2049072007161082, label=)]"
      ]
     },
     "execution_count": 189,
     "metadata": {},
     "output_type": "execute_result"
    }
   ],
   "source": [
    "# the mean squared error loss function\n",
    "[(yout - ygt)**2 for yout, ygt in zip(ypred, ys)]"
   ]
  },
  {
   "cell_type": "code",
   "execution_count": 190,
   "id": "1c7a52d0-ca71-42db-a6d7-5edb23c0c95f",
   "metadata": {
    "tags": []
   },
   "outputs": [
    {
     "data": {
      "text/plain": [
       "Value(data=6.976332652544564, label=)"
      ]
     },
     "execution_count": 190,
     "metadata": {},
     "output_type": "execute_result"
    }
   ],
   "source": [
    "loss = sum([(yout - ygt)**2 for yout, ygt in zip(ypred, ys)])\n",
    "loss"
   ]
  },
  {
   "cell_type": "code",
   "execution_count": 191,
   "id": "9fa7c4e6-3f3e-4c29-9995-75ac23d89ab8",
   "metadata": {
    "tags": []
   },
   "outputs": [],
   "source": [
    "loss.backward()"
   ]
  },
  {
   "cell_type": "code",
   "execution_count": 192,
   "id": "f1493abe-26c2-4529-b480-e008566dd230",
   "metadata": {
    "tags": []
   },
   "outputs": [
    {
     "data": {
      "text/plain": [
       "0.2503509940684177"
      ]
     },
     "execution_count": 192,
     "metadata": {},
     "output_type": "execute_result"
    }
   ],
   "source": [
    "n.layers[0].neurons[0].w[0].grad"
   ]
  },
  {
   "cell_type": "code",
   "execution_count": 193,
   "id": "a01b964e-9e04-4e5b-ab75-ce0a7ee31ea0",
   "metadata": {
    "tags": []
   },
   "outputs": [
    {
     "data": {
      "text/plain": [
       "-0.7557244079634102"
      ]
     },
     "execution_count": 193,
     "metadata": {},
     "output_type": "execute_result"
    }
   ],
   "source": [
    "n.layers[0].neurons[0].w[0].data"
   ]
  },
  {
   "cell_type": "code",
   "execution_count": 194,
   "id": "aac8ff03-a39c-4370-afc9-02dbc35342d1",
   "metadata": {
    "tags": []
   },
   "outputs": [
    {
     "data": {
      "text/plain": [
       "[Value(data=-0.7557244079634102, label=),\n",
       " Value(data=0.24925739540585404, label=),\n",
       " Value(data=-0.699985101351159, label=),\n",
       " Value(data=0.1729268331307846, label=),\n",
       " Value(data=-0.06310044242638951, label=),\n",
       " Value(data=-0.843383717015965, label=),\n",
       " Value(data=0.19103739103887526, label=),\n",
       " Value(data=-0.9383271434151034, label=),\n",
       " Value(data=-0.1312618708456413, label=),\n",
       " Value(data=-0.9974012554985386, label=),\n",
       " Value(data=-0.9511956585339513, label=),\n",
       " Value(data=0.6000936643554302, label=),\n",
       " Value(data=-0.6994587227500823, label=),\n",
       " Value(data=0.2262781321214162, label=),\n",
       " Value(data=0.8687718462166201, label=),\n",
       " Value(data=0.44279482575384105, label=),\n",
       " Value(data=0.29960986760700575, label=),\n",
       " Value(data=0.3033315960593128, label=),\n",
       " Value(data=-0.7418543095089644, label=),\n",
       " Value(data=-0.498813672107796, label=),\n",
       " Value(data=0.9541442610613339, label=),\n",
       " Value(data=0.8360075724283936, label=),\n",
       " Value(data=-0.4678702405118484, label=),\n",
       " Value(data=-0.7089216100103803, label=),\n",
       " Value(data=-0.3479779575084449, label=),\n",
       " Value(data=0.13594981930164143, label=),\n",
       " Value(data=0.7446295010648322, label=),\n",
       " Value(data=-0.32162853671246583, label=),\n",
       " Value(data=0.7562260202551293, label=),\n",
       " Value(data=-0.7108141293569896, label=),\n",
       " Value(data=0.0764218533998498, label=),\n",
       " Value(data=0.6286235933526576, label=),\n",
       " Value(data=-0.5540792991104179, label=),\n",
       " Value(data=-0.41185538880189904, label=),\n",
       " Value(data=-0.8893677959407931, label=),\n",
       " Value(data=0.6917671792098958, label=),\n",
       " Value(data=0.9215061859195623, label=),\n",
       " Value(data=-0.43618598863051095, label=),\n",
       " Value(data=-0.3980571433289049, label=),\n",
       " Value(data=0.258272655482226, label=),\n",
       " Value(data=0.3996860707779517, label=)]"
      ]
     },
     "execution_count": 194,
     "metadata": {},
     "output_type": "execute_result"
    }
   ],
   "source": [
    "n.parameters()"
   ]
  },
  {
   "cell_type": "code",
   "execution_count": 195,
   "id": "ea091133-40ae-4cc7-9e8a-f294539c6a85",
   "metadata": {
    "tags": []
   },
   "outputs": [],
   "source": [
    "# we do gradient descent here,\n",
    "# after this if we do the forward pass again and calculate the loss it should be slightly less\n",
    "for p in n.parameters():\n",
    "    p.data -= 0.01 * p.grad"
   ]
  },
  {
   "cell_type": "code",
   "execution_count": 196,
   "id": "c6aca11a-f297-4908-9c16-26e1189c5c02",
   "metadata": {
    "tags": []
   },
   "outputs": [
    {
     "data": {
      "text/plain": [
       "[Value(data=0.7556356844743229, label=),\n",
       " Value(data=0.8112703783704742, label=),\n",
       " Value(data=0.8522988823523601, label=),\n",
       " Value(data=0.5473332343587524, label=)]"
      ]
     },
     "execution_count": 196,
     "metadata": {},
     "output_type": "execute_result"
    }
   ],
   "source": [
    "ypred"
   ]
  },
  {
   "cell_type": "code",
   "execution_count": 220,
   "id": "20f0eb4e-ebce-4f8c-897b-0931ec3fc3d2",
   "metadata": {
    "tags": []
   },
   "outputs": [
    {
     "name": "stdout",
     "output_type": "stream",
     "text": [
      "e: 0, loss: Value(data=1.1404487168691957e-22, label=)\n",
      "e: 1, loss: Value(data=1.1404487168691957e-22, label=)\n",
      "e: 2, loss: Value(data=1.1404487168691957e-22, label=)\n",
      "e: 3, loss: Value(data=1.1404487168691957e-22, label=)\n",
      "e: 4, loss: Value(data=1.1404487168691957e-22, label=)\n",
      "e: 5, loss: Value(data=1.1404487168691957e-22, label=)\n",
      "e: 6, loss: Value(data=1.1404487168691957e-22, label=)\n",
      "e: 7, loss: Value(data=1.1404487168691957e-22, label=)\n",
      "e: 8, loss: Value(data=1.1404487168691957e-22, label=)\n",
      "e: 9, loss: Value(data=1.1404487168691957e-22, label=)\n"
     ]
    },
    {
     "data": {
      "text/plain": [
       "[Value(data=0.9999999999925672, label=),\n",
       " Value(data=-0.9999999999999991, label=),\n",
       " Value(data=-0.9999999999999992, label=),\n",
       " Value(data=0.999999999992332, label=)]"
      ]
     },
     "execution_count": 220,
     "metadata": {},
     "output_type": "execute_result"
    }
   ],
   "source": [
    "# an example with four data points\n",
    "xs = [\n",
    "    [2.0, 3.0, -1.0],\n",
    "    [3.0, -1.0, 0.5],\n",
    "    [0.5, 1.0, 1.0],\n",
    "    [1.0, 1.0, -1.0]\n",
    "]\n",
    "\n",
    "# targets, a binary classifier\n",
    "ys = [1.0, -1.0, -1.0, 1.0]\n",
    "\n",
    "# learning!\n",
    "for e in range(10):\n",
    "    # forward pass \n",
    "    ypred = [n(x) for x in xs]\n",
    "    loss = sum([(yout - ygt)**2 for yout, ygt in zip(ypred, ys)])\n",
    "    \n",
    "    # before doing a backward pass in an epoch don't forget to zero out the grads for the next one!\n",
    "    for p in n.parameters():\n",
    "        p.grad = 0.0\n",
    "        \n",
    "    # backward pass\n",
    "    loss.backward()\n",
    "    \n",
    "    # gradient descent (stochastic)\n",
    "    for p in n.parameters():\n",
    "        p.data -= 0.01 * p.grad\n",
    "        \n",
    "    print(f\"e: {e}, loss: {loss}\")\n",
    "ypred"
   ]
  },
  {
   "cell_type": "code",
   "execution_count": null,
   "id": "983ac340-1084-474c-bd83-19308122c438",
   "metadata": {},
   "outputs": [],
   "source": []
  }
 ],
 "metadata": {
  "kernelspec": {
   "display_name": "Python 3 (ipykernel)",
   "language": "python",
   "name": "python3"
  },
  "language_info": {
   "codemirror_mode": {
    "name": "ipython",
    "version": 3
   },
   "file_extension": ".py",
   "mimetype": "text/x-python",
   "name": "python",
   "nbconvert_exporter": "python",
   "pygments_lexer": "ipython3",
   "version": "3.10.10"
  }
 },
 "nbformat": 4,
 "nbformat_minor": 5
}
