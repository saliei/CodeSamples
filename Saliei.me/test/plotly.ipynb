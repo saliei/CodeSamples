{
 "cells": [
  {
   "cell_type": "code",
   "execution_count": 2,
   "id": "138bd987-5c13-49b4-b802-7d7db1308abf",
   "metadata": {},
   "outputs": [],
   "source": [
    "import plotly.express as px\n",
    "import chart_studio\n",
    "import chart_studio.plotly as py\n",
    "import chart_studio.tools as tls"
   ]
  },
  {
   "cell_type": "code",
   "execution_count": 12,
   "id": "c44ea13a-7ce5-49a9-a9c2-bba9418f5d9e",
   "metadata": {},
   "outputs": [
    {
     "ename": "NameError",
     "evalue": "name 'name' is not defined",
     "output_type": "error",
     "traceback": [
      "\u001b[0;31m---------------------------------------------------------------------------\u001b[0m",
      "\u001b[0;31mNameError\u001b[0m                                 Traceback (most recent call last)",
      "\u001b[0;32m/tmp/ipykernel_647688/2440984660.py\u001b[0m in \u001b[0;36m<module>\u001b[0;34m\u001b[0m\n\u001b[1;32m     26\u001b[0m                                           \u001b[0;34m'editInChartStudio'\u001b[0m\u001b[0;34m,\u001b[0m\u001b[0;34m\u001b[0m\u001b[0;34m\u001b[0m\u001b[0m\n\u001b[1;32m     27\u001b[0m                                           {\n\u001b[0;32m---> 28\u001b[0;31m                                               \u001b[0mname\u001b[0m\u001b[0;34m:\u001b[0m \u001b[0;34m'Fullscreen'\u001b[0m\u001b[0;34m,\u001b[0m\u001b[0;34m\u001b[0m\u001b[0;34m\u001b[0m\u001b[0m\n\u001b[0m\u001b[1;32m     29\u001b[0m                                               \u001b[0micon\u001b[0m\u001b[0;34m:\u001b[0m \u001b[0;34m'disk'\u001b[0m\u001b[0;34m,\u001b[0m\u001b[0;34m\u001b[0m\u001b[0;34m\u001b[0m\u001b[0m\n\u001b[1;32m     30\u001b[0m                                              \u001b[0;31m# click: function(gd) {\u001b[0m\u001b[0;34m\u001b[0m\u001b[0;34m\u001b[0m\u001b[0;34m\u001b[0m\u001b[0m\n",
      "\u001b[0;31mNameError\u001b[0m: name 'name' is not defined"
     ]
    }
   ],
   "source": [
    "gapminder = px.data.gapminder()\n",
    "fig = px.scatter(gapminder.query(\"year==2007\"), \n",
    "                 x=\"gdpPercap\", y=\"lifeExp\", \n",
    "                 size=\"pop\", color=\"continent\",\n",
    "                 hover_name=\"country\", log_x=True, \n",
    "                 size_max=60)\n",
    "\n",
    "fig.update_layout(updatemenus = \n",
    "                  [ dict(type = \"buttons\", \n",
    "                         direction = \"left\", \n",
    "                         buttons = list([\n",
    "                             dict(\n",
    "                                 args=[\"type\", \"surface\"], \n",
    "                                 label=\"Test\", \n",
    "                                 method=\"restyle\")])\n",
    "                        )                   \n",
    "                  ]\n",
    "                 )\n",
    "\n",
    "\n",
    "fig.show(config = {'displaylogo': False, 'showLink': False, \n",
    "                   'plotlyServerURL': 'https://plotly.com/~saliei/1/',\n",
    "                   'linkText': 'Full Screen',\n",
    "                   'modeBarButtonsToAdd': ['drawline',\n",
    "                                          'fullscreen',\n",
    "                                          'editInChartStudio',\n",
    "                                          {\n",
    "                                              name: 'Fullscreen',\n",
    "                                              icon: 'disk',\n",
    "                                             # click: function(gd) {\n",
    "                                             #     window.open('https://plotly.com/~saliei/1/', '_blank').focus()\n",
    "                                             # }\n",
    "                                          }]\n",
    "                  })"
   ]
  },
  {
   "cell_type": "code",
   "execution_count": 3,
   "id": "5cc03509-5684-4eff-8444-302148ab4bff",
   "metadata": {},
   "outputs": [],
   "source": [
    "username = \"saliei\"\n",
    "api_key = \"PNS7R99LkBfD8c90TO5i\"\n",
    "chart_studio.tools.set_credentials_file(username=username, api_key=api_key)"
   ]
  },
  {
   "cell_type": "code",
   "execution_count": 4,
   "id": "ff29a73f-4816-4401-8967-3ddf26c7d71c",
   "metadata": {},
   "outputs": [
    {
     "data": {
      "text/plain": [
       "'https://plotly.com/~saliei/1/'"
      ]
     },
     "execution_count": 4,
     "metadata": {},
     "output_type": "execute_result"
    },
    {
     "name": "stdout",
     "output_type": "stream",
     "text": [
      "Opening in existing browser session.\n"
     ]
    },
    {
     "name": "stderr",
     "output_type": "stream",
     "text": [
      "[500761:500761:0100/000000.723885:ERROR:sandbox_linux.cc(374)] InitializeSandbox() called with multiple threads in process gpu-process.\n"
     ]
    }
   ],
   "source": [
    "py.plot(fig, filename = 'gdp_per_cap', auto_open=True)"
   ]
  },
  {
   "cell_type": "code",
   "execution_count": 8,
   "id": "f9cf0af5-d534-468e-9d7a-0bd3d24baf0b",
   "metadata": {},
   "outputs": [
    {
     "data": {
      "text/plain": [
       "'<iframe id=\"igraph\" scrolling=\"no\" style=\"border:none;\" seamless=\"seamless\" src=\"https://plotly.com/~saliei/1.embed\" height=\"525\" width=\"100%\"></iframe>'"
      ]
     },
     "execution_count": 8,
     "metadata": {},
     "output_type": "execute_result"
    }
   ],
   "source": [
    "tls.get_embed('https://plotly.com/~saliei/1/')"
   ]
  },
  {
   "cell_type": "code",
   "execution_count": null,
   "id": "c67ff4d9-7145-442d-943f-947e48d8d7e1",
   "metadata": {},
   "outputs": [],
   "source": []
  }
 ],
 "metadata": {
  "kernelspec": {
   "display_name": "Python 3 (ipykernel)",
   "language": "python",
   "name": "python3"
  },
  "language_info": {
   "codemirror_mode": {
    "name": "ipython",
    "version": 3
   },
   "file_extension": ".py",
   "mimetype": "text/x-python",
   "name": "python",
   "nbconvert_exporter": "python",
   "pygments_lexer": "ipython3",
   "version": "3.9.6"
  }
 },
 "nbformat": 4,
 "nbformat_minor": 5
}
